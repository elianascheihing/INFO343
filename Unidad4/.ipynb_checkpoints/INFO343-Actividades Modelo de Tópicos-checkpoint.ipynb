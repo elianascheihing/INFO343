{
 "cells": [
  {
   "cell_type": "markdown",
   "metadata": {},
   "source": [
    "## <h1 align=\"center\">Actividad: Agrupar datos textuales con el Modelo de Tópicos y el algoritmo Latent Dirichlet Allocation (LDA)</h3>"
   ]
  },
  {
   "cell_type": "markdown",
   "metadata": {},
   "source": [
    "<div style=\"border: 2px solid #1c75c8; background-color: #c5ddf6;\">\n",
    "<h2> Preámbulo</h2>\n",
    "<p> Esta actividad se inspira de ejercicios disponibles en los recursos siguientes:<p>\n",
    "<ul>\n",
    "    <li>Biblioteca <a href=\"http://scikit-learn.org/stable/install.html/\">SciKit-learn</a> de Python</li>\n",
    "    <li>Código disponible en  <a href=\"https://github.com/lda-project/lda/\">lda-project</a></li>\n",
    "    <li>Material elaborado por el Prof. Matthieu Vernier</li>\n",
    "</ul>\n",
    "<p> La actividad requiere el uso de Python 3.x y <a href=\"http://jupyter.org/install\">Jupyter Notebook</a>. El código entregado fue probado con Python 3.7.3. Para saber cuál versión de Python usted está utilizando, ejecutar la celda siguiente (está información es importante cuando se necesitará instalar nuevos paquetes.)\n",
    "</p>\n",
    "</div>"
   ]
  },
  {
   "cell_type": "code",
   "execution_count": 1,
   "metadata": {},
   "outputs": [
    {
     "name": "stdout",
     "output_type": "stream",
     "text": [
      "3.7.3 (default, Mar 27 2019, 17:13:21) [MSC v.1915 64 bit (AMD64)]\n"
     ]
    }
   ],
   "source": [
    "import sys\n",
    "print(sys.version)"
   ]
  },
  {
   "cell_type": "markdown",
   "metadata": {},
   "source": [
    "\n",
    "<div style=\"border: 2px solid #D24747; background-color:#F8B4B4\">\n",
    "<h2>Objetivos de la actividad</h2>\n",
    "<p>El <b>objetivo general</b> de esta actividad consiste en  explorar la estructura oculta de un conjunto de datos textuales.</p>\n",
    "<p> Comenzaremos por utilizar un  algoritmo de clustering tradicional como Kmeans para explorar datos textuales, considerando la medida tf-idf por cada término presente en cada texto, para caracterizar los textos y construir distancias entre ellos.</p>\n",
    "<p>En una segunda fase utilizaremos el <a href=\"https://drive.google.com/open?id=1rSQPJvRVj0V_IChzspQMRPNwlDTkHYHp\"> Modelo Probabilista De Tópicos </a> para descubrir tópicos en los textos. Para ello se utilizará el algoritmo de asignación de tópicos latentes conocido como <a href= \"https://drive.google.com/open?id=1BobImO3192hifZPLXowd14gryVAUzBPW\">Latent Dirichlet Allocation (LDA)</a>. El enfoque es probabilista, por lo que el resultado del algoritmo es descubrir tópicos en los textos (el número de tópicos es definido por el analista) y asignar una distribución de probabilidad de tópicos en cada texto.</p>  Dependiendo del tamaño de los textos, es también posible agruparlos de acuerdo al tópico con mayor representación en cada uno, lo que permitirá comparar esta metodología con los algoritmos de clustering clásicos.</p> </div>\n",
    "    \n",
    "  "
   ]
  },
  {
   "cell_type": "markdown",
   "metadata": {},
   "source": [
    "<div style=\"border: 2px solid #D24747; background-color:#F8B4B4\">\n",
    "<p>Utilizaremos las 100 primeras noticias de un conjunto de datos provenientes del periódico El Dinamo.</p>   \n",
    "<p>El primer paso es la lectura de datos: </p></div>"
   ]
  },
  {
   "cell_type": "code",
   "execution_count": 2,
   "metadata": {},
   "outputs": [
    {
     "data": {
      "text/html": [
       "<div>\n",
       "<style scoped>\n",
       "    .dataframe tbody tr th:only-of-type {\n",
       "        vertical-align: middle;\n",
       "    }\n",
       "\n",
       "    .dataframe tbody tr th {\n",
       "        vertical-align: top;\n",
       "    }\n",
       "\n",
       "    .dataframe thead th {\n",
       "        text-align: right;\n",
       "    }\n",
       "</style>\n",
       "<table border=\"1\" class=\"dataframe\">\n",
       "  <thead>\n",
       "    <tr style=\"text-align: right;\">\n",
       "      <th></th>\n",
       "      <th>url</th>\n",
       "      <th>date</th>\n",
       "      <th>text</th>\n",
       "    </tr>\n",
       "  </thead>\n",
       "  <tbody>\n",
       "    <tr>\n",
       "      <th>0</th>\n",
       "      <td>https://www.eldinamo.cl/nacional/2019/12/13/mo...</td>\n",
       "      <td>13 de Diciembre de 2019</td>\n",
       "      <td>El ministro de Vivienda  Cristián Monckeberg  ...</td>\n",
       "    </tr>\n",
       "    <tr>\n",
       "      <th>1</th>\n",
       "      <td>https://www.eldinamo.cl/nacional/2019/12/13/go...</td>\n",
       "      <td>13 de Diciembre de 2019</td>\n",
       "      <td>La Moneda informó que Sebastián Piñera decretó...</td>\n",
       "    </tr>\n",
       "    <tr>\n",
       "      <th>2</th>\n",
       "      <td>https://www.eldinamo.cl/nacional/2019/12/13/co...</td>\n",
       "      <td>13 de Diciembre de 2019</td>\n",
       "      <td>La Corte de apelaciones de Santiago declaró ad...</td>\n",
       "    </tr>\n",
       "    <tr>\n",
       "      <th>3</th>\n",
       "      <td>https://www.eldinamo.cl/nacional/2019/12/13/in...</td>\n",
       "      <td>13 de Diciembre de 2019</td>\n",
       "      <td>Luego que durante esta mañana la Organización ...</td>\n",
       "    </tr>\n",
       "    <tr>\n",
       "      <th>4</th>\n",
       "      <td>https://www.eldinamo.cl/nacional/2019/12/13/in...</td>\n",
       "      <td>13 de Diciembre de 2019</td>\n",
       "      <td>Tras varias semanas de espera  la misión de ob...</td>\n",
       "    </tr>\n",
       "  </tbody>\n",
       "</table>\n",
       "</div>"
      ],
      "text/plain": [
       "                                                 url                     date  \\\n",
       "0  https://www.eldinamo.cl/nacional/2019/12/13/mo...  13 de Diciembre de 2019   \n",
       "1  https://www.eldinamo.cl/nacional/2019/12/13/go...  13 de Diciembre de 2019   \n",
       "2  https://www.eldinamo.cl/nacional/2019/12/13/co...  13 de Diciembre de 2019   \n",
       "3  https://www.eldinamo.cl/nacional/2019/12/13/in...  13 de Diciembre de 2019   \n",
       "4  https://www.eldinamo.cl/nacional/2019/12/13/in...  13 de Diciembre de 2019   \n",
       "\n",
       "                                                text  \n",
       "0  El ministro de Vivienda  Cristián Monckeberg  ...  \n",
       "1  La Moneda informó que Sebastián Piñera decretó...  \n",
       "2  La Corte de apelaciones de Santiago declaró ad...  \n",
       "3  Luego que durante esta mañana la Organización ...  \n",
       "4  Tras varias semanas de espera  la misión de ob...  "
      ]
     },
     "execution_count": 2,
     "metadata": {},
     "output_type": "execute_result"
    }
   ],
   "source": [
    "import pandas as pd\n",
    "#from pandasql import sqldf #para utilizar una síntaxis SQL para consultar nuestros datos\n",
    "\n",
    "dataset=\"dataset_eldinamo_13122019.csv\"\n",
    "df = pd.read_csv(dataset)\n",
    "df[:5]"
   ]
  },
  {
   "cell_type": "code",
   "execution_count": 3,
   "metadata": {},
   "outputs": [
    {
     "data": {
      "text/plain": [
       "0    El ministro de Vivienda  Cristián Monckeberg  ...\n",
       "1    La Moneda informó que Sebastián Piñera decretó...\n",
       "2    La Corte de apelaciones de Santiago declaró ad...\n",
       "3    Luego que durante esta mañana la Organización ...\n",
       "4    Tras varias semanas de espera  la misión de ob...\n",
       "5    A través de un documento de cinco páginas  el ...\n",
       "6    El Presidente Sebastián Piñera expresó este ju...\n",
       "7    A eso de las 18:13 horas del pasado lunes se e...\n",
       "8    Con opiniones en contra y otras a favor comenz...\n",
       "9    Con votos de diputados del Partido Radical  de...\n",
       "Name: text, dtype: object"
      ]
     },
     "execution_count": 3,
     "metadata": {},
     "output_type": "execute_result"
    }
   ],
   "source": [
    "noticias = df[:100].text\n",
    "len(noticias)\n",
    "noticias[:10]"
   ]
  },
  {
   "cell_type": "code",
   "execution_count": 4,
   "metadata": {},
   "outputs": [],
   "source": [
    "import spacy\n",
    "nlp = spacy.load(\"es_core_news_sm\")\n",
    "\n",
    "def spacy_tokenizer(texto):\n",
    "    # crea lista de tokens a partir de un texto\n",
    "    mytokens = []\n",
    "    doc = nlp(texto.lower().strip())\n",
    "    for token in doc:\n",
    "        if not token.is_stop and not token.is_punct and not token.is_space and not token.is_digit and not token.like_num:\n",
    "            mytokens.append(token.lemma_)\n",
    "    return mytokens\n",
    "\n",
    "\n"
   ]
  },
  {
   "cell_type": "code",
   "execution_count": 5,
   "metadata": {},
   "outputs": [],
   "source": [
    "#Utilizando Kmeans y tf-idf para realizar un \n",
    "#primer agrupamiento de las noticias\n",
    "import re\n",
    "from sklearn.feature_extraction.text import TfidfVectorizer, CountVectorizer\n",
    "from sklearn.cluster import KMeans\n",
    "from sklearn.metrics import adjusted_rand_score\n",
    "\n",
    "myStopWords=['a','e','o','u','y',' ','  ','   ','    ']\n",
    "vectorizer = TfidfVectorizer(tokenizer=spacy_tokenizer, stop_words=myStopWords, ngram_range=(1,1))\n",
    "\n",
    "X=vectorizer.fit_transform(noticias) \n",
    "X_term = vectorizer.get_feature_names()\n",
    "\n"
   ]
  },
  {
   "cell_type": "code",
   "execution_count": 6,
   "metadata": {},
   "outputs": [
    {
     "name": "stdout",
     "output_type": "stream",
     "text": [
      "['$', '+', '-además', '-cerrando', '-con', '-desde', '-el', '-entre', '-junto', '-las', '-los', '-mientras', '-modelo', '-por', '-primo', '-que', '-sobre', '-tía', '-vinculada', '-y']\n",
      "(100, 3901)\n",
      "0    El ministro de Vivienda  Cristián Monckeberg  ...\n",
      "Name: text, dtype: object\n",
      "  (0, 2475)\t0.09341223975797007\n",
      "  (0, 3836)\t0.05887181719340517\n",
      "  (0, 1054)\t0.11774363438681033\n",
      "  (0, 2507)\t0.28935444277642997\n",
      "  (0, 3224)\t0.04088589803521453\n",
      "  (0, 2153)\t0.11775361964136238\n",
      "  (0, 620)\t0.04868458117596521\n",
      "  (0, 1727)\t0.041776902641787614\n",
      "  (0, 3236)\t0.047283800326294964\n",
      "  (0, 2449)\t0.047283800326294964\n",
      "  (0, 722)\t0.04868458117596521\n",
      "  (0, 2620)\t0.06637945963790917\n",
      "  (0, 692)\t0.06607289549189008\n",
      "  (0, 1023)\t0.21701583208232247\n",
      "  (0, 2129)\t0.03408668549063265\n",
      "  (0, 688)\t0.06215137467666753\n",
      "  (0, 3502)\t0.03464135791709519\n",
      "  (0, 631)\t0.051964138659227575\n",
      "  (0, 2034)\t0.13275891927581834\n",
      "  (0, 2474)\t0.24531538821128718\n",
      "  (0, 3128)\t0.1837921218576964\n",
      "  (0, 2154)\t0.044828593934535144\n",
      "  (0, 1859)\t0.0392512065471208\n",
      "  (0, 1783)\t0.23641900163147483\n",
      "  (0, 1182)\t0.05619222362046922\n",
      "  :\t:\n",
      "  (0, 1557)\t0.0854508602395338\n",
      "  (0, 3044)\t0.04868458117596521\n",
      "  (0, 2169)\t0.07233861069410749\n",
      "  (0, 1962)\t0.06215137467666753\n",
      "  (0, 3613)\t0.05392665953582488\n",
      "  (0, 856)\t0.06215137467666753\n",
      "  (0, 2757)\t0.07233861069410749\n",
      "  (0, 1743)\t0.05023307256427091\n",
      "  (0, 3269)\t0.06637945963790917\n",
      "  (0, 794)\t0.06215137467666753\n",
      "  (0, 2024)\t0.06215137467666753\n",
      "  (0, 3189)\t0.047283800326294964\n",
      "  (0, 701)\t0.06215137467666753\n",
      "  (0, 3213)\t0.05392665953582488\n",
      "  (0, 435)\t0.05887181719340517\n",
      "  (0, 2165)\t0.044828593934535144\n",
      "  (0, 3523)\t0.06215137467666753\n",
      "  (0, 1874)\t0.07233861069410749\n",
      "  (0, 2346)\t0.07233861069410749\n",
      "  (0, 1154)\t0.05887181719340517\n",
      "  (0, 1484)\t0.07233861069410749\n",
      "  (0, 1965)\t0.06215137467666753\n",
      "  (0, 554)\t0.05887181719340517\n",
      "  (0, 3530)\t0.041776902641787614\n",
      "  (0, 1052)\t0.06637945963790917\n",
      "100\n",
      "[[ 9.02073488]\n",
      " [ 8.62571765]\n",
      " [ 7.94621524]\n",
      " [11.8176169 ]\n",
      " [13.61829954]\n",
      " [12.29874733]\n",
      " [ 7.83889392]\n",
      " [13.98073816]\n",
      " [ 8.04613484]\n",
      " [ 9.13579196]]\n"
     ]
    }
   ],
   "source": [
    "import numpy as np\n",
    "print(X_term[:20])\n",
    "print(X.shape)\n",
    "print(noticias[:1])\n",
    "print(X[:1])\n",
    "sumTextos = np.sum(X, axis=1)\n",
    "print(len(sumTextos))\n",
    "print(sumTextos[:10])"
   ]
  },
  {
   "cell_type": "code",
   "execution_count": 7,
   "metadata": {},
   "outputs": [
    {
     "data": {
      "text/plain": [
       "<Figure size 640x480 with 1 Axes>"
      ]
     },
     "metadata": {},
     "output_type": "display_data"
    }
   ],
   "source": [
    "import matplotlib\n",
    "import numpy as np\n",
    "import matplotlib.pyplot as plt\n",
    "\n",
    "\n",
    "num_k = range(1, 10)\n",
    "inertias = []\n",
    "\n",
    "for k in num_k:\n",
    "    # Create a KMeans instance with k clusters: model\n",
    "    model = KMeans(n_clusters=k, n_init=10)\n",
    "\n",
    "    # Fit model to samples\n",
    "    model.fit(X)\n",
    "\n",
    "    # Append the inertia to the list of inertias\n",
    "    inertias.append(model.inertia_)\n",
    "\n",
    "\n",
    "# Plot ks vs inertias\n",
    "plt.plot(num_k, inertias, '-o')\n",
    "plt.xlabel('number of clusters, k')\n",
    "plt.ylabel('inertia')\n",
    "plt.xticks(num_k)\n",
    "plt.show()"
   ]
  },
  {
   "cell_type": "markdown",
   "metadata": {},
   "source": [
    "<div style=\"border: 2px solid #1c75c8; background-color: #c5ddf6;\">\n",
    "<p>Pregunta Nº1: Explore las clases TfidfVectorizer, CountVectorizer. ¿Qué rol cumplen? ¿Qué tratamiento premilinar de textos se ha hecho en este caso? ¿Qué rol cumple n_gram?</p>\n",
    "<p>Pregunta Nº2: A partir del gráfico, justifique el número de clusters para estos datos.</p>\n",
    "</div>"
   ]
  },
  {
   "cell_type": "code",
   "execution_count": 8,
   "metadata": {},
   "outputs": [
    {
     "name": "stdout",
     "output_type": "stream",
     "text": [
      "Top terms per cluster:\n",
      "Cluster 0: derecho-acusación-humano-presidente-social-constitucional-ministro-diputar-país-chile-carabinero-político-senado-gobernar-piñera\n",
      "Cluster 1: avión-hércules-fach-aéreo-búsqueda-c-130-familiar-aeronave-resto-forzar-siniestrado-accidentar-bordar-punta-arenar\n",
      "Cluster 2: año-delito-investigación-casar-chahuán-comuna-público-personar-incendiar-concejal-prisión-información-imputar-preventivo-viña\n"
     ]
    }
   ],
   "source": [
    "from matplotlib.pylab import hist, show\n",
    "true_k = 3\n",
    "model = KMeans(n_clusters=true_k, init='k-means++', max_iter=100, n_init=10)\n",
    "model.fit(X)\n",
    "print(\"Top terms per cluster:\")\n",
    "order_centroids = model.cluster_centers_.argsort()[:, ::-1]\n",
    "terms = vectorizer.get_feature_names()\n",
    "\n",
    "for i in range(true_k):\n",
    "    cluster_words = np.array(terms)[order_centroids[i, :15]]\n",
    "    print('Cluster {}: {}'.format(i, '-'.join(cluster_words)))\n",
    "\n",
    "\n",
    "\n",
    "                                    "
   ]
  },
  {
   "cell_type": "code",
   "execution_count": 9,
   "metadata": {},
   "outputs": [
    {
     "data": {
      "image/png": "[encoded data removed]",
      "text/plain": [
       "<Figure size 432x288 with 1 Axes>"
      ]
     },
     "metadata": {
      "needs_background": "light"
     },
     "output_type": "display_data"
    },
    {
     "data": {
      "image/png": "[encoded data removed]",
      "text/plain": [
       "<Figure size 432x288 with 1 Axes>"
      ]
     },
     "metadata": {
      "needs_background": "light"
     },
     "output_type": "display_data"
    }
   ],
   "source": [
    "#Generando algunos gráficos de los resultados\n",
    "labels = model.predict(X)\n",
    "plt.scatter(range(100),labels,c=labels)\n",
    "show()\n",
    "hist(labels,bins=np.arange(-0.5,5.6,1),alpha=0.5,rwidth=0.9,density=True)\n",
    "show()"
   ]
  },
  {
   "cell_type": "markdown",
   "metadata": {},
   "source": [
    "<div style=\"border: 2px solid #1c75c8; background-color: #c5ddf6;\">\n",
    "<p>Pregunta Nº3:Explore diversos valores en los parámetros de n_init y max_iter. ¿tienen influencia en los resultados? ¿Por qué? Describa e interprete los resultados.</p></div>"
   ]
  },
  {
   "cell_type": "markdown",
   "metadata": {},
   "source": [
    "<div style=\"border: 2px solid #1c75c8; background-color: #F8B4B4\">\n",
    "<p>En lo que sigue se construye un modelo probabilista de tópicos, considerando de 1 a 9 tópicos (para comparar con Kmeans\n",
    " y el algoritmo LDA estimado con el <a href=\"https://drive.google.com/open?id=1AoCcmg91Y1yRwM_Ox4Nvf6PGSQ9TybpE\">, método de Bayes Variacional</a>, disponible como desarrollo en <a href=\"http://scikit-learn.org/stable/modules/generated/sklearn.decomposition.LatentDirichletAllocation.html\">sklearn-lda.</a></p> \n",
    "Previo a ello se utiliza la clase CountVectorizer y su función fit_transform que permite construir una matriz tf (DTM, Document-Term Matrix) que contiene la frecuencia de aparición de cada término del vocabulario en cada texto analizado. En la definición de la clase se especifica que:\n",
    "<ol>\n",
    "    <li>los términos que  aparecen sólo una vez en algún texto no serán considerados en el vocabulario (min_df=2)</li>\n",
    "    <li> los términos que  aparecen en mas del 95% de los textos no serán considerados en el vocabulario (max_df=0.95)</li>\n",
    "    <li> se considera adicionalmente un conjunto de stop words construido ad-hoc, posible de refinar</li>\n",
    "</ol></div>"
   ]
  },
  {
   "cell_type": "code",
   "execution_count": 10,
   "metadata": {},
   "outputs": [
    {
     "data": {
      "image/png": "[encoded data removed]",
      "text/plain": [
       "<Figure size 432x288 with 1 Axes>"
      ]
     },
     "metadata": {
      "needs_background": "light"
     },
     "output_type": "display_data"
    }
   ],
   "source": [
    "#Aplicando Modelos Probabilistas de Tópicos y LDA\n",
    "from sklearn.decomposition import LatentDirichletAllocation\n",
    "\n",
    "def print_top_words(model, feature_names, n_top_words):\n",
    "    for topic_idx, topic in enumerate(model.components_):\n",
    "        message = \"Topic #%d: \" % topic_idx\n",
    "        message += \" \".join([feature_names[i]\n",
    "                             for i in topic.argsort()[:-n_top_words - 1:-1]])\n",
    "        print(message)\n",
    "    print()\n",
    "    \n",
    "myStopWords=['a','e','o','u','y',' ','  ','   ','   ','    ']\n",
    "tf_vectorizer = CountVectorizer(max_df=0.95, min_df=2,\n",
    "                                stop_words=myStopWords,tokenizer=spacy_tokenizer, ngram_range=(1,1))\n",
    "tf = tf_vectorizer.fit_transform(noticias)\n",
    "diccionario= tf_vectorizer.get_feature_names()\n",
    "\n",
    "\n",
    "perp = []\n",
    "for k in num_k:\n",
    "    #Estimación de LDA con Bayes Variacional\n",
    "    lda = LatentDirichletAllocation(n_components=k, max_iter=10,\n",
    "                                learning_method='online',\n",
    "                                learning_offset=50.,\n",
    "                                random_state=0)\n",
    "\n",
    "    lda.fit(tf)\n",
    "    #Cálculo de índice de ajuste de los datos\n",
    "    perp.append(lda.perplexity(tf))\n",
    "\n",
    "plt.plot(num_k, perp, '-o')\n",
    "plt.xlabel('number of clusters, k')\n",
    "plt.ylabel('perplexity')\n",
    "plt.xticks(num_k)\n",
    "plt.show()\n",
    "\n",
    "#print(\"\\nTopics in LDA model:\")\n",
    "#print_top_words(lda, diccionario, 15)\n"
   ]
  },
  {
   "cell_type": "markdown",
   "metadata": {},
   "source": [
    "<div style=\"border: 2px solid #1c75c8; background-color: #c5ddf6;\">\n",
    "<p>Pregunta Nº4: Indage sobre la medida perplexity, ¿Cómo se interpreta el valor obtenido?\n",
    "</p></div>"
   ]
  },
  {
   "cell_type": "code",
   "execution_count": 11,
   "metadata": {},
   "outputs": [
    {
     "name": "stdout",
     "output_type": "stream",
     "text": [
      "[[9.95274793e-01 2.38992816e-03 2.33527866e-03]\n",
      " [5.37865825e-03 2.40838148e-01 7.53783193e-01]\n",
      " [9.91468872e-01 4.53630418e-03 3.99482355e-03]\n",
      " [1.85261403e-03 9.96469255e-01 1.67813105e-03]\n",
      " [8.92476663e-04 9.98317718e-01 7.89804941e-04]\n",
      " [9.10383626e-01 8.82692122e-02 1.34716201e-03]\n",
      " [4.26051408e-03 4.30867052e-03 9.91430815e-01]\n",
      " [5.60115225e-04 5.55134117e-04 9.98884751e-01]\n",
      " [3.79739392e-03 9.92421616e-01 3.78099048e-03]\n",
      " [3.79008236e-03 9.92789910e-01 3.42000797e-03]\n",
      " [4.24916628e-03 4.21760486e-03 9.91533229e-01]\n",
      " [4.69303494e-03 9.90935676e-01 4.37128944e-03]\n",
      " [1.29626629e-03 1.32161138e-03 9.97382122e-01]\n",
      " [9.94624252e-01 2.71694256e-03 2.65880576e-03]\n",
      " [9.85113809e-01 7.74633282e-03 7.13985847e-03]\n",
      " [3.09795567e-03 9.93980594e-01 2.92145066e-03]\n",
      " [9.93271507e-01 3.28664309e-03 3.44184969e-03]\n",
      " [9.94150689e-01 3.01140847e-03 2.83790236e-03]\n",
      " [1.38878349e-03 9.97194708e-01 1.41650804e-03]\n",
      " [5.30084223e-03 9.89431592e-01 5.26756576e-03]\n",
      " [4.59166627e-03 9.90777160e-01 4.63117325e-03]\n",
      " [3.77714783e-03 3.89982463e-03 9.92323028e-01]\n",
      " [4.56100910e-03 9.91110510e-01 4.32848082e-03]\n",
      " [6.66289241e-01 3.30526134e-01 3.18462468e-03]\n",
      " [2.84401664e-03 9.94382423e-01 2.77356017e-03]\n",
      " [1.03856272e-03 1.03611513e-03 9.97925322e-01]\n",
      " [3.46726707e-03 9.93282550e-01 3.25018306e-03]\n",
      " [4.50243144e-03 4.44393958e-03 9.91053629e-01]\n",
      " [2.44646708e-03 9.95204470e-01 2.34906277e-03]\n",
      " [4.15476792e-01 5.81878266e-01 2.64494293e-03]\n",
      " [3.39330819e-03 9.93763799e-01 2.84289291e-03]\n",
      " [9.95657993e-01 2.22658547e-03 2.11542114e-03]\n",
      " [6.71361459e-01 4.25218284e-03 3.24386359e-01]\n",
      " [4.38912235e-03 9.71514046e-01 2.40968319e-02]\n",
      " [3.20405329e-03 9.94108029e-01 2.68791743e-03]\n",
      " [9.30205285e-03 7.49785894e-01 2.40912053e-01]\n",
      " [6.98347720e-01 2.98523891e-01 3.12838962e-03]\n",
      " [9.91176892e-01 4.40159671e-03 4.42151093e-03]\n",
      " [9.88561960e-01 5.98268074e-03 5.45535886e-03]\n",
      " [9.89143298e-01 5.49608469e-03 5.36061748e-03]\n",
      " [4.27961773e-01 5.70473876e-01 1.56435094e-03]\n",
      " [4.72168752e-03 9.90698691e-01 4.57962140e-03]\n",
      " [9.92449154e-01 3.98499337e-03 3.56585254e-03]\n",
      " [8.19833941e-01 1.78726574e-01 1.43948465e-03]\n",
      " [9.91941570e-01 3.95758646e-03 4.10084330e-03]\n",
      " [9.82823009e-01 9.27935943e-03 7.89763158e-03]\n",
      " [4.88391038e-03 9.90384002e-01 4.73208788e-03]\n",
      " [9.93122171e-01 3.40057849e-03 3.47725029e-03]\n",
      " [9.95113417e-01 2.48648062e-03 2.40010263e-03]\n",
      " [2.22658486e-03 9.95656905e-01 2.11651032e-03]\n",
      " [2.26863996e-03 9.95770414e-01 1.96094568e-03]\n",
      " [4.64274408e-03 9.90747926e-01 4.60933033e-03]\n",
      " [9.90485460e-01 4.85062381e-03 4.66391630e-03]\n",
      " [2.37058578e-03 9.95373190e-01 2.25622414e-03]\n",
      " [2.64135011e-03 9.94903973e-01 2.45467642e-03]\n",
      " [9.95391057e-01 2.34018223e-03 2.26876072e-03]\n",
      " [4.05530270e-03 9.92183372e-01 3.76132564e-03]\n",
      " [9.90509645e-01 4.94621479e-03 4.54414008e-03]\n",
      " [3.34591383e-03 9.93830940e-01 2.82314630e-03]\n",
      " [4.13915780e-03 9.91940670e-01 3.92017189e-03]\n",
      " [3.09706956e-03 9.93820156e-01 3.08277476e-03]\n",
      " [3.83374254e-03 6.85499617e-01 3.10666640e-01]\n",
      " [2.27471802e-03 9.95507850e-01 2.21743163e-03]\n",
      " [9.90194389e-01 4.82489366e-03 4.98071752e-03]\n",
      " [5.03979371e-03 9.90066679e-01 4.89352704e-03]\n",
      " [9.97433780e-01 1.30252515e-03 1.26369529e-03]\n",
      " [4.54503989e-03 9.91289318e-01 4.16564175e-03]\n",
      " [9.22515908e-01 5.45516305e-03 7.20289286e-02]\n",
      " [2.93037851e-03 9.94248190e-01 2.82143183e-03]\n",
      " [5.14442402e-03 9.90188041e-01 4.66753537e-03]\n",
      " [9.93960400e-01 3.25616246e-03 2.78343755e-03]\n",
      " [2.78601285e-03 9.82043845e-01 1.51701417e-02]\n",
      " [4.86898766e-03 9.90446085e-01 4.68492733e-03]\n",
      " [1.81290187e-01 8.13886697e-01 4.82311648e-03]\n",
      " [6.49822612e-01 3.44581710e-01 5.59567882e-03]\n",
      " [3.81051928e-03 9.92727127e-01 3.46235336e-03]\n",
      " [9.84054602e-01 5.43229235e-03 1.05131054e-02]\n",
      " [9.93934751e-01 3.24935846e-03 2.81589044e-03]\n",
      " [4.80972085e-01 5.12590262e-01 6.43765275e-03]\n",
      " [4.92464007e-01 5.01398990e-01 6.13700305e-03]\n",
      " [9.95429416e-01 2.42972690e-03 2.14085714e-03]\n",
      " [9.93092423e-01 3.60646803e-03 3.30110901e-03]\n",
      " [1.93995737e-03 9.96230581e-01 1.82946142e-03]\n",
      " [9.93089009e-01 3.74098199e-03 3.17000924e-03]\n",
      " [1.93462105e-03 9.96264456e-01 1.80092299e-03]\n",
      " [1.41127931e-03 9.97297964e-01 1.29075661e-03]\n",
      " [9.93701015e-01 3.44975107e-03 2.84923432e-03]\n",
      " [9.91976624e-01 4.12590265e-03 3.89747287e-03]\n",
      " [2.44776906e-03 9.95341562e-01 2.21066897e-03]\n",
      " [9.94156315e-01 2.91660378e-03 2.92708160e-03]\n",
      " [3.80572706e-03 9.92603047e-01 3.59122614e-03]\n",
      " [9.91993853e-01 4.17117962e-03 3.83496765e-03]\n",
      " [3.50097220e-03 9.93077099e-01 3.42192869e-03]\n",
      " [9.92106742e-01 4.12307168e-03 3.77018669e-03]\n",
      " [1.88279711e-03 9.96335244e-01 1.78195887e-03]\n",
      " [9.87412085e-01 6.24999183e-03 6.33792342e-03]\n",
      " [9.90511747e-01 4.83960544e-03 4.64864778e-03]\n",
      " [1.56911143e-03 9.96931598e-01 1.49929054e-03]\n",
      " [2.15588348e-03 9.95766628e-01 2.07748841e-03]\n",
      " [4.15792038e-03 4.11619182e-03 9.91725888e-01]]\n",
      "[0.40256554 0.49752704 0.09990742]\n",
      "[0 1 2]\n"
     ]
    },
    {
     "data": {
      "image/png": "[encoded data removed]",
      "text/plain": [
       "<Figure size 432x288 with 1 Axes>"
      ]
     },
     "metadata": {
      "needs_background": "light"
     },
     "output_type": "display_data"
    },
    {
     "data": {
      "image/png": "[encoded data removed]",
      "text/plain": [
       "<Figure size 432x288 with 1 Axes>"
      ]
     },
     "metadata": {
      "needs_background": "light"
     },
     "output_type": "display_data"
    },
    {
     "data": {
      "image/png": "[encoded data removed]",
      "text/plain": [
       "<Figure size 432x288 with 1 Axes>"
      ]
     },
     "metadata": {
      "needs_background": "light"
     },
     "output_type": "display_data"
    },
    {
     "data": {
      "image/png": "[encoded data removed]",
      "text/plain": [
       "<Figure size 432x288 with 1 Axes>"
      ]
     },
     "metadata": {
      "needs_background": "light"
     },
     "output_type": "display_data"
    },
    {
     "data": {
      "image/png": "[encoded data removed]",
      "text/plain": [
       "<Figure size 432x288 with 1 Axes>"
      ]
     },
     "metadata": {
      "needs_background": "light"
     },
     "output_type": "display_data"
    }
   ],
   "source": [
    "#Generando algunos gráficos de los resultados\n",
    "from matplotlib.pylab import hist, show\n",
    "import seaborn as sns\n",
    "\n",
    "lda = LatentDirichletAllocation(n_components=true_k, max_iter=100,\n",
    "                                learning_method='online',\n",
    "                                learning_offset=50.,\n",
    "                                random_state=0)\n",
    "y=lda.fit_transform(tf)\n",
    "\n",
    "print(y)\n",
    "#distribución de tópicos en todos los documentos\n",
    "dist = sum(y)/len(noticias)\n",
    "print(dist)\n",
    "\n",
    "w=np.arange(0,true_k)\n",
    "print(w)\n",
    "plt.bar(w,height=dist,alpha=0.5,tick_label=w)\n",
    "show()\n",
    "#distribución de tópicos en el documento 100\n",
    "plt.bar(w,height=y[98],alpha=0.5,tick_label=w)\n",
    "show()\n",
    "\n",
    "\n",
    "#frecuencia de palabras por tópico\n",
    "n_top_words=15\n",
    "numo =np.arange(0,n_top_words)\n",
    "for idx,topic in enumerate(lda.components_):\n",
    "    d =[]\n",
    "    s = []\n",
    "    for i in topic.argsort()[:-n_top_words - 1:-1]:\n",
    "          s.append(diccionario[i])\n",
    "          d.append(topic[i])\n",
    "    \n",
    "    plt.barh(numo,width=d,alpha=0.5,tick_label=s)\n",
    "    show()\n"
   ]
  },
  {
   "cell_type": "markdown",
   "metadata": {},
   "source": [
    "<div style=\"border: 2px solid #1c75c8; background-color: #c5ddf6;\">\n",
    "<p>Pregunta Nº5: Interprete estos gráficos. \n",
    "</p></div>"
   ]
  },
  {
   "cell_type": "code",
   "execution_count": 12,
   "metadata": {},
   "outputs": [
    {
     "data": {
      "image/png": "[encoded data removed]",
      "text/plain": [
       "<Figure size 432x288 with 1 Axes>"
      ]
     },
     "metadata": {
      "needs_background": "light"
     },
     "output_type": "display_data"
    },
    {
     "data": {
      "image/png": "[encoded data removed]",
      "text/plain": [
       "<Figure size 432x288 with 1 Axes>"
      ]
     },
     "metadata": {
      "needs_background": "light"
     },
     "output_type": "display_data"
    }
   ],
   "source": [
    "#calculando cluster en base al tópico mas frecuente\n",
    "z=[]\n",
    "for i in range(len(noticias)):\n",
    "    z.append(np.argmax(y[i]))\n",
    "plt.scatter(range(100),z,c=z)\n",
    "\n",
    "#distribución de cluster de acuerdo al cálculo anterior\n",
    "show()\n",
    "hist(z,bins=np.arange(-0.5,5.6,1),alpha=0.5,rwidth=0.9,density=True)\n",
    "show()\n"
   ]
  },
  {
   "cell_type": "markdown",
   "metadata": {},
   "source": [
    "<div style=\"border: 2px solid #1c75c8; background-color: #c5ddf6;\">\n",
    "<p>Pregunta Nº6: ¿Cómo se comparan estos resultados con los de  Kmeans?\n",
    "</p></div>\n"
   ]
  },
  {
   "cell_type": "markdown",
   "metadata": {},
   "source": [
    "<div style=\"border: 2px solid #1c75c8; background-color: #F8B4B4\">\n",
    "<p>Una nueva estimación para algoritmo LDA considerando <a href=\"https://drive.google.com/open?id=1oSRRvG_W0UaH0l4o9f5ClEyWuGY1j-s0\"> Gibbs Sampling</a>, disponible como desarrollo en <a href=\"https://github.com/lda-project/lda/\">lda-project.</a></p> \n",
    "</div>"
   ]
  },
  {
   "cell_type": "code",
   "execution_count": 13,
   "metadata": {},
   "outputs": [
    {
     "name": "stderr",
     "output_type": "stream",
     "text": [
      "INFO:lda:n_documents: 100\n",
      "INFO:lda:vocab_size: 1769\n",
      "INFO:lda:n_words: 13168\n",
      "INFO:lda:n_topics: 3\n",
      "INFO:lda:n_iter: 5000\n",
      "C:\\ProgramData\\Anaconda3\\lib\\site-packages\\lda\\utils.py:55: FutureWarning: Conversion of the second argument of issubdtype from `int` to `np.signedinteger` is deprecated. In future, it will be treated as `np.int32 == np.dtype(int).type`.\n",
      "  if sparse and not np.issubdtype(doc_word.dtype, int):\n",
      "INFO:lda:<0> log likelihood: -115142\n",
      "INFO:lda:<10> log likelihood: -101358\n",
      "INFO:lda:<20> log likelihood: -99241\n",
      "INFO:lda:<30> log likelihood: -98519\n",
      "INFO:lda:<40> log likelihood: -98070\n",
      "INFO:lda:<50> log likelihood: -97786\n",
      "INFO:lda:<60> log likelihood: -97518\n",
      "INFO:lda:<70> log likelihood: -97441\n",
      "INFO:lda:<80> log likelihood: -97134\n",
      "INFO:lda:<90> log likelihood: -97029\n",
      "INFO:lda:<100> log likelihood: -97043\n",
      "INFO:lda:<110> log likelihood: -96930\n",
      "INFO:lda:<120> log likelihood: -96870\n",
      "INFO:lda:<130> log likelihood: -96846\n",
      "INFO:lda:<140> log likelihood: -96803\n",
      "INFO:lda:<150> log likelihood: -96703\n",
      "INFO:lda:<160> log likelihood: -96737\n",
      "INFO:lda:<170> log likelihood: -96870\n",
      "INFO:lda:<180> log likelihood: -96667\n",
      "INFO:lda:<190> log likelihood: -96940\n",
      "INFO:lda:<200> log likelihood: -96752\n",
      "INFO:lda:<210> log likelihood: -96855\n",
      "INFO:lda:<220> log likelihood: -96723\n",
      "INFO:lda:<230> log likelihood: -96810\n",
      "INFO:lda:<240> log likelihood: -96848\n",
      "INFO:lda:<250> log likelihood: -96666\n",
      "INFO:lda:<260> log likelihood: -96649\n",
      "INFO:lda:<270> log likelihood: -96691\n",
      "INFO:lda:<280> log likelihood: -96740\n",
      "INFO:lda:<290> log likelihood: -96815\n",
      "INFO:lda:<300> log likelihood: -96659\n",
      "INFO:lda:<310> log likelihood: -96951\n",
      "INFO:lda:<320> log likelihood: -96797\n",
      "INFO:lda:<330> log likelihood: -96603\n",
      "INFO:lda:<340> log likelihood: -96692\n",
      "INFO:lda:<350> log likelihood: -96763\n",
      "INFO:lda:<360> log likelihood: -96797\n",
      "INFO:lda:<370> log likelihood: -96757\n",
      "INFO:lda:<380> log likelihood: -96658\n",
      "INFO:lda:<390> log likelihood: -96762\n",
      "INFO:lda:<400> log likelihood: -96684\n",
      "INFO:lda:<410> log likelihood: -96686\n",
      "INFO:lda:<420> log likelihood: -96727\n",
      "INFO:lda:<430> log likelihood: -96901\n",
      "INFO:lda:<440> log likelihood: -96572\n",
      "INFO:lda:<450> log likelihood: -96696\n",
      "INFO:lda:<460> log likelihood: -96661\n",
      "INFO:lda:<470> log likelihood: -96661\n",
      "INFO:lda:<480> log likelihood: -96493\n",
      "INFO:lda:<490> log likelihood: -96790\n",
      "INFO:lda:<500> log likelihood: -96620\n",
      "INFO:lda:<510> log likelihood: -96735\n",
      "INFO:lda:<520> log likelihood: -96802\n",
      "INFO:lda:<530> log likelihood: -96752\n",
      "INFO:lda:<540> log likelihood: -96581\n",
      "INFO:lda:<550> log likelihood: -96582\n",
      "INFO:lda:<560> log likelihood: -96615\n",
      "INFO:lda:<570> log likelihood: -96615\n",
      "INFO:lda:<580> log likelihood: -96518\n",
      "INFO:lda:<590> log likelihood: -96679\n",
      "INFO:lda:<600> log likelihood: -96593\n",
      "INFO:lda:<610> log likelihood: -96559\n",
      "INFO:lda:<620> log likelihood: -96652\n",
      "INFO:lda:<630> log likelihood: -96711\n",
      "INFO:lda:<640> log likelihood: -96534\n",
      "INFO:lda:<650> log likelihood: -96557\n",
      "INFO:lda:<660> log likelihood: -96488\n",
      "INFO:lda:<670> log likelihood: -96744\n",
      "INFO:lda:<680> log likelihood: -96575\n",
      "INFO:lda:<690> log likelihood: -96737\n",
      "INFO:lda:<700> log likelihood: -96623\n",
      "INFO:lda:<710> log likelihood: -96611\n",
      "INFO:lda:<720> log likelihood: -96720\n",
      "INFO:lda:<730> log likelihood: -96530\n",
      "INFO:lda:<740> log likelihood: -96756\n",
      "INFO:lda:<750> log likelihood: -96788\n",
      "INFO:lda:<760> log likelihood: -96696\n",
      "INFO:lda:<770> log likelihood: -96824\n",
      "INFO:lda:<780> log likelihood: -96577\n",
      "INFO:lda:<790> log likelihood: -96648\n",
      "INFO:lda:<800> log likelihood: -96760\n",
      "INFO:lda:<810> log likelihood: -96725\n",
      "INFO:lda:<820> log likelihood: -96660\n",
      "INFO:lda:<830> log likelihood: -96673\n",
      "INFO:lda:<840> log likelihood: -96435\n",
      "INFO:lda:<850> log likelihood: -96608\n",
      "INFO:lda:<860> log likelihood: -96646\n",
      "INFO:lda:<870> log likelihood: -96626\n",
      "INFO:lda:<880> log likelihood: -96751\n",
      "INFO:lda:<890> log likelihood: -96619\n",
      "INFO:lda:<900> log likelihood: -96709\n",
      "INFO:lda:<910> log likelihood: -96763\n",
      "INFO:lda:<920> log likelihood: -96968\n",
      "INFO:lda:<930> log likelihood: -96771\n",
      "INFO:lda:<940> log likelihood: -96724\n",
      "INFO:lda:<950> log likelihood: -96804\n",
      "INFO:lda:<960> log likelihood: -96741\n",
      "INFO:lda:<970> log likelihood: -96824\n",
      "INFO:lda:<980> log likelihood: -96659\n",
      "INFO:lda:<990> log likelihood: -96879\n",
      "INFO:lda:<1000> log likelihood: -96717\n",
      "INFO:lda:<1010> log likelihood: -96772\n",
      "INFO:lda:<1020> log likelihood: -96636\n",
      "INFO:lda:<1030> log likelihood: -96615\n",
      "INFO:lda:<1040> log likelihood: -96689\n",
      "INFO:lda:<1050> log likelihood: -96628\n",
      "INFO:lda:<1060> log likelihood: -96530\n",
      "INFO:lda:<1070> log likelihood: -96724\n",
      "INFO:lda:<1080> log likelihood: -96699\n",
      "INFO:lda:<1090> log likelihood: -96666\n",
      "INFO:lda:<1100> log likelihood: -96883\n",
      "INFO:lda:<1110> log likelihood: -96823\n",
      "INFO:lda:<1120> log likelihood: -96700\n",
      "INFO:lda:<1130> log likelihood: -96688\n",
      "INFO:lda:<1140> log likelihood: -96736\n",
      "INFO:lda:<1150> log likelihood: -96753\n",
      "INFO:lda:<1160> log likelihood: -96631\n",
      "INFO:lda:<1170> log likelihood: -96738\n",
      "INFO:lda:<1180> log likelihood: -96806\n",
      "INFO:lda:<1190> log likelihood: -96640\n",
      "INFO:lda:<1200> log likelihood: -96646\n",
      "INFO:lda:<1210> log likelihood: -96606\n",
      "INFO:lda:<1220> log likelihood: -96790\n",
      "INFO:lda:<1230> log likelihood: -96681\n",
      "INFO:lda:<1240> log likelihood: -96759\n",
      "INFO:lda:<1250> log likelihood: -96637\n",
      "INFO:lda:<1260> log likelihood: -96722\n",
      "INFO:lda:<1270> log likelihood: -96623\n",
      "INFO:lda:<1280> log likelihood: -96559\n",
      "INFO:lda:<1290> log likelihood: -96699\n",
      "INFO:lda:<1300> log likelihood: -96701\n",
      "INFO:lda:<1310> log likelihood: -96778\n",
      "INFO:lda:<1320> log likelihood: -96831\n",
      "INFO:lda:<1330> log likelihood: -96781\n",
      "INFO:lda:<1340> log likelihood: -96487\n",
      "INFO:lda:<1350> log likelihood: -96767\n",
      "INFO:lda:<1360> log likelihood: -96644\n",
      "INFO:lda:<1370> log likelihood: -96735\n",
      "INFO:lda:<1380> log likelihood: -96765\n",
      "INFO:lda:<1390> log likelihood: -96672\n",
      "INFO:lda:<1400> log likelihood: -96812\n",
      "INFO:lda:<1410> log likelihood: -96641\n",
      "INFO:lda:<1420> log likelihood: -96799\n",
      "INFO:lda:<1430> log likelihood: -96620\n",
      "INFO:lda:<1440> log likelihood: -96686\n",
      "INFO:lda:<1450> log likelihood: -96560\n",
      "INFO:lda:<1460> log likelihood: -96813\n",
      "INFO:lda:<1470> log likelihood: -96796\n",
      "INFO:lda:<1480> log likelihood: -96711\n",
      "INFO:lda:<1490> log likelihood: -96635\n",
      "INFO:lda:<1500> log likelihood: -96554\n",
      "INFO:lda:<1510> log likelihood: -96664\n",
      "INFO:lda:<1520> log likelihood: -96532\n",
      "INFO:lda:<1530> log likelihood: -96578\n",
      "INFO:lda:<1540> log likelihood: -96791\n",
      "INFO:lda:<1550> log likelihood: -96741\n",
      "INFO:lda:<1560> log likelihood: -96811\n",
      "INFO:lda:<1570> log likelihood: -96600\n",
      "INFO:lda:<1580> log likelihood: -96790\n",
      "INFO:lda:<1590> log likelihood: -96667\n",
      "INFO:lda:<1600> log likelihood: -96718\n",
      "INFO:lda:<1610> log likelihood: -96680\n",
      "INFO:lda:<1620> log likelihood: -96658\n",
      "INFO:lda:<1630> log likelihood: -96692\n",
      "INFO:lda:<1640> log likelihood: -96921\n",
      "INFO:lda:<1650> log likelihood: -96627\n",
      "INFO:lda:<1660> log likelihood: -96782\n",
      "INFO:lda:<1670> log likelihood: -96770\n",
      "INFO:lda:<1680> log likelihood: -96576\n",
      "INFO:lda:<1690> log likelihood: -96566\n",
      "INFO:lda:<1700> log likelihood: -96597\n",
      "INFO:lda:<1710> log likelihood: -96824\n",
      "INFO:lda:<1720> log likelihood: -96734\n",
      "INFO:lda:<1730> log likelihood: -96687\n",
      "INFO:lda:<1740> log likelihood: -96772\n",
      "INFO:lda:<1750> log likelihood: -96721\n",
      "INFO:lda:<1760> log likelihood: -96653\n",
      "INFO:lda:<1770> log likelihood: -96549\n",
      "INFO:lda:<1780> log likelihood: -96737\n",
      "INFO:lda:<1790> log likelihood: -96680\n",
      "INFO:lda:<1800> log likelihood: -96527\n",
      "INFO:lda:<1810> log likelihood: -96762\n",
      "INFO:lda:<1820> log likelihood: -96633\n",
      "INFO:lda:<1830> log likelihood: -96707\n",
      "INFO:lda:<1840> log likelihood: -96598\n",
      "INFO:lda:<1850> log likelihood: -96717\n",
      "INFO:lda:<1860> log likelihood: -96722\n",
      "INFO:lda:<1870> log likelihood: -96888\n",
      "INFO:lda:<1880> log likelihood: -96879\n",
      "INFO:lda:<1890> log likelihood: -96870\n",
      "INFO:lda:<1900> log likelihood: -96804\n",
      "INFO:lda:<1910> log likelihood: -96750\n",
      "INFO:lda:<1920> log likelihood: -96658\n",
      "INFO:lda:<1930> log likelihood: -96637\n",
      "INFO:lda:<1940> log likelihood: -96607\n",
      "INFO:lda:<1950> log likelihood: -96653\n",
      "INFO:lda:<1960> log likelihood: -96696\n",
      "INFO:lda:<1970> log likelihood: -96653\n",
      "INFO:lda:<1980> log likelihood: -96746\n",
      "INFO:lda:<1990> log likelihood: -96702\n",
      "INFO:lda:<2000> log likelihood: -96643\n",
      "INFO:lda:<2010> log likelihood: -96628\n",
      "INFO:lda:<2020> log likelihood: -96546\n"
     ]
    },
    {
     "name": "stderr",
     "output_type": "stream",
     "text": [
      "INFO:lda:<2030> log likelihood: -96532\n",
      "INFO:lda:<2040> log likelihood: -96589\n",
      "INFO:lda:<2050> log likelihood: -96543\n",
      "INFO:lda:<2060> log likelihood: -96779\n",
      "INFO:lda:<2070> log likelihood: -96789\n",
      "INFO:lda:<2080> log likelihood: -96606\n",
      "INFO:lda:<2090> log likelihood: -96727\n",
      "INFO:lda:<2100> log likelihood: -96648\n",
      "INFO:lda:<2110> log likelihood: -96689\n",
      "INFO:lda:<2120> log likelihood: -96633\n",
      "INFO:lda:<2130> log likelihood: -96739\n",
      "INFO:lda:<2140> log likelihood: -96690\n",
      "INFO:lda:<2150> log likelihood: -96778\n",
      "INFO:lda:<2160> log likelihood: -96506\n",
      "INFO:lda:<2170> log likelihood: -96775\n",
      "INFO:lda:<2180> log likelihood: -96836\n",
      "INFO:lda:<2190> log likelihood: -96683\n",
      "INFO:lda:<2200> log likelihood: -96699\n",
      "INFO:lda:<2210> log likelihood: -96769\n",
      "INFO:lda:<2220> log likelihood: -96726\n",
      "INFO:lda:<2230> log likelihood: -96666\n",
      "INFO:lda:<2240> log likelihood: -96819\n",
      "INFO:lda:<2250> log likelihood: -96639\n",
      "INFO:lda:<2260> log likelihood: -96739\n",
      "INFO:lda:<2270> log likelihood: -96679\n",
      "INFO:lda:<2280> log likelihood: -96887\n",
      "INFO:lda:<2290> log likelihood: -96731\n",
      "INFO:lda:<2300> log likelihood: -96701\n",
      "INFO:lda:<2310> log likelihood: -96830\n",
      "INFO:lda:<2320> log likelihood: -96759\n",
      "INFO:lda:<2330> log likelihood: -96799\n",
      "INFO:lda:<2340> log likelihood: -96853\n",
      "INFO:lda:<2350> log likelihood: -96647\n",
      "INFO:lda:<2360> log likelihood: -96782\n",
      "INFO:lda:<2370> log likelihood: -96697\n",
      "INFO:lda:<2380> log likelihood: -96780\n",
      "INFO:lda:<2390> log likelihood: -96689\n",
      "INFO:lda:<2400> log likelihood: -96811\n",
      "INFO:lda:<2410> log likelihood: -96894\n",
      "INFO:lda:<2420> log likelihood: -96773\n",
      "INFO:lda:<2430> log likelihood: -96669\n",
      "INFO:lda:<2440> log likelihood: -96770\n",
      "INFO:lda:<2450> log likelihood: -96824\n",
      "INFO:lda:<2460> log likelihood: -96683\n",
      "INFO:lda:<2470> log likelihood: -96560\n",
      "INFO:lda:<2480> log likelihood: -96652\n",
      "INFO:lda:<2490> log likelihood: -96857\n",
      "INFO:lda:<2500> log likelihood: -96717\n",
      "INFO:lda:<2510> log likelihood: -96799\n",
      "INFO:lda:<2520> log likelihood: -96589\n",
      "INFO:lda:<2530> log likelihood: -96729\n",
      "INFO:lda:<2540> log likelihood: -96708\n",
      "INFO:lda:<2550> log likelihood: -96729\n",
      "INFO:lda:<2560> log likelihood: -96605\n",
      "INFO:lda:<2570> log likelihood: -96633\n",
      "INFO:lda:<2580> log likelihood: -96808\n",
      "INFO:lda:<2590> log likelihood: -96661\n",
      "INFO:lda:<2600> log likelihood: -96673\n",
      "INFO:lda:<2610> log likelihood: -96749\n",
      "INFO:lda:<2620> log likelihood: -96795\n",
      "INFO:lda:<2630> log likelihood: -96521\n",
      "INFO:lda:<2640> log likelihood: -96454\n",
      "INFO:lda:<2650> log likelihood: -96630\n",
      "INFO:lda:<2660> log likelihood: -96603\n",
      "INFO:lda:<2670> log likelihood: -96744\n",
      "INFO:lda:<2680> log likelihood: -96679\n",
      "INFO:lda:<2690> log likelihood: -96409\n",
      "INFO:lda:<2700> log likelihood: -96659\n",
      "INFO:lda:<2710> log likelihood: -96695\n",
      "INFO:lda:<2720> log likelihood: -96664\n",
      "INFO:lda:<2730> log likelihood: -96642\n",
      "INFO:lda:<2740> log likelihood: -96689\n",
      "INFO:lda:<2750> log likelihood: -96650\n",
      "INFO:lda:<2760> log likelihood: -96708\n",
      "INFO:lda:<2770> log likelihood: -96611\n",
      "INFO:lda:<2780> log likelihood: -96747\n",
      "INFO:lda:<2790> log likelihood: -96637\n",
      "INFO:lda:<2800> log likelihood: -96676\n",
      "INFO:lda:<2810> log likelihood: -96802\n",
      "INFO:lda:<2820> log likelihood: -96624\n",
      "INFO:lda:<2830> log likelihood: -96763\n",
      "INFO:lda:<2840> log likelihood: -96671\n",
      "INFO:lda:<2850> log likelihood: -96774\n",
      "INFO:lda:<2860> log likelihood: -96649\n",
      "INFO:lda:<2870> log likelihood: -96788\n",
      "INFO:lda:<2880> log likelihood: -97033\n",
      "INFO:lda:<2890> log likelihood: -96846\n",
      "INFO:lda:<2900> log likelihood: -96783\n",
      "INFO:lda:<2910> log likelihood: -96922\n",
      "INFO:lda:<2920> log likelihood: -96793\n",
      "INFO:lda:<2930> log likelihood: -96884\n",
      "INFO:lda:<2940> log likelihood: -97062\n",
      "INFO:lda:<2950> log likelihood: -96743\n",
      "INFO:lda:<2960> log likelihood: -96804\n",
      "INFO:lda:<2970> log likelihood: -96725\n",
      "INFO:lda:<2980> log likelihood: -96759\n",
      "INFO:lda:<2990> log likelihood: -96609\n",
      "INFO:lda:<3000> log likelihood: -96891\n",
      "INFO:lda:<3010> log likelihood: -96769\n",
      "INFO:lda:<3020> log likelihood: -96681\n",
      "INFO:lda:<3030> log likelihood: -96658\n",
      "INFO:lda:<3040> log likelihood: -96612\n",
      "INFO:lda:<3050> log likelihood: -96803\n",
      "INFO:lda:<3060> log likelihood: -96790\n",
      "INFO:lda:<3070> log likelihood: -96794\n",
      "INFO:lda:<3080> log likelihood: -96846\n",
      "INFO:lda:<3090> log likelihood: -96691\n",
      "INFO:lda:<3100> log likelihood: -96723\n",
      "INFO:lda:<3110> log likelihood: -96632\n",
      "INFO:lda:<3120> log likelihood: -96515\n",
      "INFO:lda:<3130> log likelihood: -96622\n",
      "INFO:lda:<3140> log likelihood: -96582\n",
      "INFO:lda:<3150> log likelihood: -96587\n",
      "INFO:lda:<3160> log likelihood: -96836\n",
      "INFO:lda:<3170> log likelihood: -96813\n",
      "INFO:lda:<3180> log likelihood: -96680\n",
      "INFO:lda:<3190> log likelihood: -96768\n",
      "INFO:lda:<3200> log likelihood: -96707\n",
      "INFO:lda:<3210> log likelihood: -96592\n",
      "INFO:lda:<3220> log likelihood: -96655\n",
      "INFO:lda:<3230> log likelihood: -96588\n",
      "INFO:lda:<3240> log likelihood: -96622\n",
      "INFO:lda:<3250> log likelihood: -96696\n",
      "INFO:lda:<3260> log likelihood: -96653\n",
      "INFO:lda:<3270> log likelihood: -96700\n",
      "INFO:lda:<3280> log likelihood: -96663\n",
      "INFO:lda:<3290> log likelihood: -96689\n",
      "INFO:lda:<3300> log likelihood: -96759\n",
      "INFO:lda:<3310> log likelihood: -96785\n",
      "INFO:lda:<3320> log likelihood: -96828\n",
      "INFO:lda:<3330> log likelihood: -96875\n",
      "INFO:lda:<3340> log likelihood: -96760\n",
      "INFO:lda:<3350> log likelihood: -96946\n",
      "INFO:lda:<3360> log likelihood: -96824\n",
      "INFO:lda:<3370> log likelihood: -96789\n",
      "INFO:lda:<3380> log likelihood: -96728\n",
      "INFO:lda:<3390> log likelihood: -96754\n",
      "INFO:lda:<3400> log likelihood: -96617\n",
      "INFO:lda:<3410> log likelihood: -96606\n",
      "INFO:lda:<3420> log likelihood: -96621\n",
      "INFO:lda:<3430> log likelihood: -96590\n",
      "INFO:lda:<3440> log likelihood: -96733\n",
      "INFO:lda:<3450> log likelihood: -96658\n",
      "INFO:lda:<3460> log likelihood: -96575\n",
      "INFO:lda:<3470> log likelihood: -96803\n",
      "INFO:lda:<3480> log likelihood: -96862\n",
      "INFO:lda:<3490> log likelihood: -96708\n",
      "INFO:lda:<3500> log likelihood: -96819\n",
      "INFO:lda:<3510> log likelihood: -96791\n",
      "INFO:lda:<3520> log likelihood: -96711\n",
      "INFO:lda:<3530> log likelihood: -96731\n",
      "INFO:lda:<3540> log likelihood: -96567\n",
      "INFO:lda:<3550> log likelihood: -96762\n",
      "INFO:lda:<3560> log likelihood: -96697\n",
      "INFO:lda:<3570> log likelihood: -96574\n",
      "INFO:lda:<3580> log likelihood: -96728\n",
      "INFO:lda:<3590> log likelihood: -96628\n",
      "INFO:lda:<3600> log likelihood: -96694\n",
      "INFO:lda:<3610> log likelihood: -96689\n",
      "INFO:lda:<3620> log likelihood: -96610\n",
      "INFO:lda:<3630> log likelihood: -96560\n",
      "INFO:lda:<3640> log likelihood: -96712\n",
      "INFO:lda:<3650> log likelihood: -96664\n",
      "INFO:lda:<3660> log likelihood: -96719\n",
      "INFO:lda:<3670> log likelihood: -96535\n",
      "INFO:lda:<3680> log likelihood: -96583\n",
      "INFO:lda:<3690> log likelihood: -96742\n",
      "INFO:lda:<3700> log likelihood: -96764\n",
      "INFO:lda:<3710> log likelihood: -96669\n",
      "INFO:lda:<3720> log likelihood: -96713\n",
      "INFO:lda:<3730> log likelihood: -96491\n",
      "INFO:lda:<3740> log likelihood: -96631\n",
      "INFO:lda:<3750> log likelihood: -96476\n",
      "INFO:lda:<3760> log likelihood: -96600\n",
      "INFO:lda:<3770> log likelihood: -96680\n",
      "INFO:lda:<3780> log likelihood: -96788\n",
      "INFO:lda:<3790> log likelihood: -96722\n",
      "INFO:lda:<3800> log likelihood: -96663\n",
      "INFO:lda:<3810> log likelihood: -96793\n",
      "INFO:lda:<3820> log likelihood: -96602\n",
      "INFO:lda:<3830> log likelihood: -96779\n",
      "INFO:lda:<3840> log likelihood: -96743\n",
      "INFO:lda:<3850> log likelihood: -96507\n",
      "INFO:lda:<3860> log likelihood: -96712\n",
      "INFO:lda:<3870> log likelihood: -96696\n",
      "INFO:lda:<3880> log likelihood: -96716\n",
      "INFO:lda:<3890> log likelihood: -96666\n",
      "INFO:lda:<3900> log likelihood: -96630\n",
      "INFO:lda:<3910> log likelihood: -96788\n",
      "INFO:lda:<3920> log likelihood: -96641\n",
      "INFO:lda:<3930> log likelihood: -96523\n",
      "INFO:lda:<3940> log likelihood: -96813\n",
      "INFO:lda:<3950> log likelihood: -96659\n",
      "INFO:lda:<3960> log likelihood: -96787\n",
      "INFO:lda:<3970> log likelihood: -96599\n",
      "INFO:lda:<3980> log likelihood: -96537\n",
      "INFO:lda:<3990> log likelihood: -96624\n",
      "INFO:lda:<4000> log likelihood: -96527\n",
      "INFO:lda:<4010> log likelihood: -96603\n",
      "INFO:lda:<4020> log likelihood: -96560\n",
      "INFO:lda:<4030> log likelihood: -96718\n",
      "INFO:lda:<4040> log likelihood: -96777\n",
      "INFO:lda:<4050> log likelihood: -96577\n",
      "INFO:lda:<4060> log likelihood: -96624\n",
      "INFO:lda:<4070> log likelihood: -96512\n",
      "INFO:lda:<4080> log likelihood: -96704\n",
      "INFO:lda:<4090> log likelihood: -96732\n",
      "INFO:lda:<4100> log likelihood: -96864\n",
      "INFO:lda:<4110> log likelihood: -96615\n",
      "INFO:lda:<4120> log likelihood: -96825\n",
      "INFO:lda:<4130> log likelihood: -96674\n"
     ]
    },
    {
     "name": "stderr",
     "output_type": "stream",
     "text": [
      "INFO:lda:<4140> log likelihood: -96733\n",
      "INFO:lda:<4150> log likelihood: -96708\n",
      "INFO:lda:<4160> log likelihood: -96791\n",
      "INFO:lda:<4170> log likelihood: -96678\n",
      "INFO:lda:<4180> log likelihood: -96820\n",
      "INFO:lda:<4190> log likelihood: -96730\n",
      "INFO:lda:<4200> log likelihood: -96767\n",
      "INFO:lda:<4210> log likelihood: -96702\n",
      "INFO:lda:<4220> log likelihood: -96726\n",
      "INFO:lda:<4230> log likelihood: -96881\n",
      "INFO:lda:<4240> log likelihood: -96649\n",
      "INFO:lda:<4250> log likelihood: -96716\n",
      "INFO:lda:<4260> log likelihood: -96688\n",
      "INFO:lda:<4270> log likelihood: -96764\n",
      "INFO:lda:<4280> log likelihood: -96661\n",
      "INFO:lda:<4290> log likelihood: -96686\n",
      "INFO:lda:<4300> log likelihood: -96826\n",
      "INFO:lda:<4310> log likelihood: -96833\n",
      "INFO:lda:<4320> log likelihood: -96802\n",
      "INFO:lda:<4330> log likelihood: -96890\n",
      "INFO:lda:<4340> log likelihood: -96729\n",
      "INFO:lda:<4350> log likelihood: -96727\n",
      "INFO:lda:<4360> log likelihood: -96849\n",
      "INFO:lda:<4370> log likelihood: -96619\n",
      "INFO:lda:<4380> log likelihood: -96763\n",
      "INFO:lda:<4390> log likelihood: -96703\n",
      "INFO:lda:<4400> log likelihood: -96644\n",
      "INFO:lda:<4410> log likelihood: -96696\n",
      "INFO:lda:<4420> log likelihood: -96683\n",
      "INFO:lda:<4430> log likelihood: -96455\n",
      "INFO:lda:<4440> log likelihood: -96555\n",
      "INFO:lda:<4450> log likelihood: -96553\n",
      "INFO:lda:<4460> log likelihood: -96716\n",
      "INFO:lda:<4470> log likelihood: -96616\n",
      "INFO:lda:<4480> log likelihood: -96827\n",
      "INFO:lda:<4490> log likelihood: -96473\n",
      "INFO:lda:<4500> log likelihood: -96540\n",
      "INFO:lda:<4510> log likelihood: -96581\n",
      "INFO:lda:<4520> log likelihood: -96694\n",
      "INFO:lda:<4530> log likelihood: -96624\n",
      "INFO:lda:<4540> log likelihood: -96523\n",
      "INFO:lda:<4550> log likelihood: -96625\n",
      "INFO:lda:<4560> log likelihood: -96566\n",
      "INFO:lda:<4570> log likelihood: -96544\n",
      "INFO:lda:<4580> log likelihood: -96798\n",
      "INFO:lda:<4590> log likelihood: -96707\n",
      "INFO:lda:<4600> log likelihood: -96575\n",
      "INFO:lda:<4610> log likelihood: -96681\n",
      "INFO:lda:<4620> log likelihood: -96644\n",
      "INFO:lda:<4630> log likelihood: -96792\n",
      "INFO:lda:<4640> log likelihood: -96699\n",
      "INFO:lda:<4650> log likelihood: -96800\n",
      "INFO:lda:<4660> log likelihood: -96639\n",
      "INFO:lda:<4670> log likelihood: -96647\n",
      "INFO:lda:<4680> log likelihood: -96670\n",
      "INFO:lda:<4690> log likelihood: -96691\n",
      "INFO:lda:<4700> log likelihood: -96632\n",
      "INFO:lda:<4710> log likelihood: -96624\n",
      "INFO:lda:<4720> log likelihood: -96639\n",
      "INFO:lda:<4730> log likelihood: -96631\n",
      "INFO:lda:<4740> log likelihood: -96576\n",
      "INFO:lda:<4750> log likelihood: -96588\n",
      "INFO:lda:<4760> log likelihood: -96703\n",
      "INFO:lda:<4770> log likelihood: -96581\n",
      "INFO:lda:<4780> log likelihood: -96762\n",
      "INFO:lda:<4790> log likelihood: -96730\n",
      "INFO:lda:<4800> log likelihood: -96534\n",
      "INFO:lda:<4810> log likelihood: -96735\n",
      "INFO:lda:<4820> log likelihood: -96590\n",
      "INFO:lda:<4830> log likelihood: -96797\n",
      "INFO:lda:<4840> log likelihood: -96722\n",
      "INFO:lda:<4850> log likelihood: -96529\n",
      "INFO:lda:<4860> log likelihood: -96676\n",
      "INFO:lda:<4870> log likelihood: -96724\n",
      "INFO:lda:<4880> log likelihood: -96650\n",
      "INFO:lda:<4890> log likelihood: -96683\n",
      "INFO:lda:<4900> log likelihood: -96693\n",
      "INFO:lda:<4910> log likelihood: -96711\n",
      "INFO:lda:<4920> log likelihood: -96655\n",
      "INFO:lda:<4930> log likelihood: -96656\n",
      "INFO:lda:<4940> log likelihood: -96706\n",
      "INFO:lda:<4950> log likelihood: -96851\n",
      "INFO:lda:<4960> log likelihood: -96635\n",
      "INFO:lda:<4970> log likelihood: -96699\n",
      "INFO:lda:<4980> log likelihood: -96694\n",
      "INFO:lda:<4990> log likelihood: -96804\n",
      "INFO:lda:<4999> log likelihood: -96869\n"
     ]
    },
    {
     "name": "stdout",
     "output_type": "stream",
     "text": [
      "Topic 0: avión fach búsqueda hércules aéreo encontrar forzar c-130 personar chile\n",
      "Topic 1: carabinero público año delito casar personar presentar investigación funcionario líneo\n",
      "Topic 2: derecho social humano chile presidente país ministro constitucional acusación político\n"
     ]
    }
   ],
   "source": [
    "import lda\n",
    "\n",
    "model = lda.LDA(n_topics=true_k, n_iter=5000, alpha=0.1, eta=0.1, random_state=3)\n",
    "model.fit(tf)  # model.fit_transform(X) is also available\n",
    "\n",
    "topic_word = model.topic_word_  # model.components_ also works\n",
    "n_top_words=10\n",
    "for i, topic_dist in enumerate(topic_word):\n",
    "    topic_words = np.array(diccionario)[np.argsort(topic_dist)][:-(n_top_words+1):-1]\n",
    "    print('Topic {}: {}'.format(i, ' '.join(topic_words)))\n",
    "    \n"
   ]
  },
  {
   "cell_type": "code",
   "execution_count": 14,
   "metadata": {},
   "outputs": [
    {
     "data": {
      "text/plain": [
       "[<matplotlib.lines.Line2D at 0x20f731d4668>]"
      ]
     },
     "execution_count": 14,
     "metadata": {},
     "output_type": "execute_result"
    },
    {
     "data": {
      "image/png": "[encoded data removed]",
      "text/plain": [
       "<Figure size 432x288 with 1 Axes>"
      ]
     },
     "metadata": {
      "needs_background": "light"
     },
     "output_type": "display_data"
    }
   ],
   "source": [
    "plt.plot(model.loglikelihoods_[5:])"
   ]
  },
  {
   "cell_type": "code",
   "execution_count": 15,
   "metadata": {},
   "outputs": [
    {
     "data": {
      "image/png": "[encoded data removed]",
      "text/plain": [
       "<Figure size 432x288 with 1 Axes>"
      ]
     },
     "metadata": {
      "needs_background": "light"
     },
     "output_type": "display_data"
    },
    {
     "data": {
      "image/png": "[encoded data removed]",
      "text/plain": [
       "<Figure size 432x288 with 1 Axes>"
      ]
     },
     "metadata": {
      "needs_background": "light"
     },
     "output_type": "display_data"
    },
    {
     "data": {
      "image/png": "[encoded data removed]",
      "text/plain": [
       "<Figure size 432x288 with 1 Axes>"
      ]
     },
     "metadata": {
      "needs_background": "light"
     },
     "output_type": "display_data"
    },
    {
     "data": {
      "image/png": "[encoded data removed]",
      "text/plain": [
       "<Figure size 432x288 with 1 Axes>"
      ]
     },
     "metadata": {
      "needs_background": "light"
     },
     "output_type": "display_data"
    },
    {
     "data": {
      "image/png": "[encoded data removed]",
      "text/plain": [
       "<Figure size 432x288 with 1 Axes>"
      ]
     },
     "metadata": {
      "needs_background": "light"
     },
     "output_type": "display_data"
    }
   ],
   "source": [
    "#Generando algunos gráficos de los resultados\n",
    "from matplotlib.pylab import hist, show\n",
    "\n",
    "y=model.doc_topic_\n",
    "#distribución de tópicos en todos los documentos\n",
    "dist = sum(y)/len(noticias)\n",
    "w=np.arange(0,true_k)\n",
    "plt.bar(w,height=dist,alpha=0.5,tick_label=w)\n",
    "show()\n",
    "\n",
    "#distribución de tópicos en el documento 100\n",
    "plt.bar(w,height=y[99],alpha=0.5,tick_label=w)\n",
    "show()\n",
    "\n",
    "#frecuencia de palabras por tópico\n",
    "n_top_words=15\n",
    "numo =np.arange(0,n_top_words)\n",
    "\n",
    "for idx,topic in enumerate(model.topic_word_):\n",
    "    d =[]\n",
    "    s = []\n",
    "    for i in topic.argsort()[:-n_top_words - 1:-1]:\n",
    "          s.append(diccionario[i])\n",
    "          d.append(topic[i])\n",
    "    \n",
    "    plt.barh(numo,width=d,alpha=0.5,tick_label=s)\n",
    "    show()\n",
    "\n",
    "\n",
    "\n"
   ]
  },
  {
   "cell_type": "code",
   "execution_count": 16,
   "metadata": {},
   "outputs": [
    {
     "data": {
      "image/png": "[encoded data removed]",
      "text/plain": [
       "<Figure size 432x288 with 1 Axes>"
      ]
     },
     "metadata": {
      "needs_background": "light"
     },
     "output_type": "display_data"
    },
    {
     "data": {
      "image/png": "[encoded data removed]",
      "text/plain": [
       "<Figure size 432x288 with 1 Axes>"
      ]
     },
     "metadata": {
      "needs_background": "light"
     },
     "output_type": "display_data"
    }
   ],
   "source": [
    "#calculando cluster en base al tópico mas frecuente\n",
    "z=[]\n",
    "for i in range(len(noticias)):\n",
    "    z.append(np.argmax(y[i]))\n",
    "plt.scatter(range(100),z,c=z)\n",
    "show()\n",
    "\n",
    "#distribución de cluster de acuerdo a la definición anterior\n",
    "hist(z,bins=np.arange(-0.5,5.6,1),alpha=0.5,rwidth=0.9,density=True)\n",
    "show()\n",
    "\n"
   ]
  },
  {
   "cell_type": "markdown",
   "metadata": {},
   "source": [
    "<div style=\"border: 2px solid #1c75c8; background-color: #c5ddf6;\">\n",
    "<p>Pregunta Nº7: ¿Cómo se comparan estos resultados con los anteriores? ¿Qué puede decir de la convergencia de la estimación en este caso?\n",
    "</p></div>"
   ]
  }
 ],
 "metadata": {
  "kernelspec": {
   "display_name": "Python 3",
   "language": "python",
   "name": "python3"
  },
  "language_info": {
   "codemirror_mode": {
    "name": "ipython",
    "version": 3
   },
   "file_extension": ".py",
   "mimetype": "text/x-python",
   "name": "python",
   "nbconvert_exporter": "python",
   "pygments_lexer": "ipython3",
   "version": "3.7.3"
  }
 },
 "nbformat": 4,
 "nbformat_minor": 2
}
