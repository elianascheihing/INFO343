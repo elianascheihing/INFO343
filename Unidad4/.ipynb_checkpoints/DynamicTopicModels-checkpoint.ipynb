{
 "cells": [
  {
   "cell_type": "markdown",
   "metadata": {},
   "source": [
    "# Dynamic Topic Models \n",
    "Este notebook es una adaptación del tutorial \"Dynamic Topic Models en el contexto del estallido social en Chile\" preparado por Matthieu Vernier para EVIC2019"
   ]
  },
  {
   "cell_type": "markdown",
   "metadata": {},
   "source": [
    "# 1. Definición del Dataset y de sus _Slices_"
   ]
  },
  {
   "cell_type": "code",
   "execution_count": 1,
   "metadata": {},
   "outputs": [],
   "source": [
    "import pandas as pd\n",
    "from pandasql import sqldf #para utilizar una síntaxis SQL para consultar nuestros datos"
   ]
  },
  {
   "cell_type": "markdown",
   "metadata": {},
   "source": [
    "La carpeta _datasets_ contiene un archivo CSV llamado 'dataset_eldinamo_13122019.csv'. Corresponde a un dataset de noticias del medio \"El Dinamo\" entre el 4 de octubre 2019 y el 13 de diciembre 2019."
   ]
  },
  {
   "cell_type": "code",
   "execution_count": 3,
   "metadata": {},
   "outputs": [
    {
     "data": {
      "text/html": [
       "<div>\n",
       "<style scoped>\n",
       "    .dataframe tbody tr th:only-of-type {\n",
       "        vertical-align: middle;\n",
       "    }\n",
       "\n",
       "    .dataframe tbody tr th {\n",
       "        vertical-align: top;\n",
       "    }\n",
       "\n",
       "    .dataframe thead th {\n",
       "        text-align: right;\n",
       "    }\n",
       "</style>\n",
       "<table border=\"1\" class=\"dataframe\">\n",
       "  <thead>\n",
       "    <tr style=\"text-align: right;\">\n",
       "      <th></th>\n",
       "      <th>url</th>\n",
       "      <th>date</th>\n",
       "      <th>text</th>\n",
       "    </tr>\n",
       "  </thead>\n",
       "  <tbody>\n",
       "    <tr>\n",
       "      <th>0</th>\n",
       "      <td>https://www.eldinamo.cl/nacional/2019/12/13/mo...</td>\n",
       "      <td>13 de Diciembre de 2019</td>\n",
       "      <td>El ministro de Vivienda  Cristián Monckeberg  ...</td>\n",
       "    </tr>\n",
       "    <tr>\n",
       "      <th>1</th>\n",
       "      <td>https://www.eldinamo.cl/nacional/2019/12/13/go...</td>\n",
       "      <td>13 de Diciembre de 2019</td>\n",
       "      <td>La Moneda informó que Sebastián Piñera decretó...</td>\n",
       "    </tr>\n",
       "    <tr>\n",
       "      <th>2</th>\n",
       "      <td>https://www.eldinamo.cl/nacional/2019/12/13/co...</td>\n",
       "      <td>13 de Diciembre de 2019</td>\n",
       "      <td>La Corte de apelaciones de Santiago declaró ad...</td>\n",
       "    </tr>\n",
       "    <tr>\n",
       "      <th>3</th>\n",
       "      <td>https://www.eldinamo.cl/nacional/2019/12/13/in...</td>\n",
       "      <td>13 de Diciembre de 2019</td>\n",
       "      <td>Luego que durante esta mañana la Organización ...</td>\n",
       "    </tr>\n",
       "    <tr>\n",
       "      <th>4</th>\n",
       "      <td>https://www.eldinamo.cl/nacional/2019/12/13/in...</td>\n",
       "      <td>13 de Diciembre de 2019</td>\n",
       "      <td>Tras varias semanas de espera  la misión de ob...</td>\n",
       "    </tr>\n",
       "  </tbody>\n",
       "</table>\n",
       "</div>"
      ],
      "text/plain": [
       "                                                 url                     date  \\\n",
       "0  https://www.eldinamo.cl/nacional/2019/12/13/mo...  13 de Diciembre de 2019   \n",
       "1  https://www.eldinamo.cl/nacional/2019/12/13/go...  13 de Diciembre de 2019   \n",
       "2  https://www.eldinamo.cl/nacional/2019/12/13/co...  13 de Diciembre de 2019   \n",
       "3  https://www.eldinamo.cl/nacional/2019/12/13/in...  13 de Diciembre de 2019   \n",
       "4  https://www.eldinamo.cl/nacional/2019/12/13/in...  13 de Diciembre de 2019   \n",
       "\n",
       "                                                text  \n",
       "0  El ministro de Vivienda  Cristián Monckeberg  ...  \n",
       "1  La Moneda informó que Sebastián Piñera decretó...  \n",
       "2  La Corte de apelaciones de Santiago declaró ad...  \n",
       "3  Luego que durante esta mañana la Organización ...  \n",
       "4  Tras varias semanas de espera  la misión de ob...  "
      ]
     },
     "execution_count": 3,
     "metadata": {},
     "output_type": "execute_result"
    }
   ],
   "source": [
    "dataset=\"dataset_eldinamo_13122019.csv\"\n",
    "df = pd.read_csv(dataset)\n",
    "df[:5]"
   ]
  },
  {
   "cell_type": "code",
   "execution_count": 4,
   "metadata": {},
   "outputs": [
    {
     "name": "stdout",
     "output_type": "stream",
     "text": [
      "Número de documentos: 453\n"
     ]
    }
   ],
   "source": [
    "print(\"Número de documentos: \"+str(df.count()[0]))"
   ]
  },
  {
   "cell_type": "markdown",
   "metadata": {},
   "source": [
    "Cambiamos el formato de las fechas para poder utilizar la información más facilmente."
   ]
  },
  {
   "cell_type": "code",
   "execution_count": 5,
   "metadata": {},
   "outputs": [],
   "source": [
    "#Modificar la columna \"date\" para que sea reconocida como fecha y no como texto.\n",
    "df['date']= df['date'].replace(\" de Diciembre de \", \"/12/\",regex=True)\n",
    "df['date']= df['date'].replace(\" de Noviembre de \", \"/11/\",regex=True)\n",
    "df['date']= df['date'].replace(\" de Octubre de \", \"/10/\",regex=True) \n",
    "df['date'] =pd.to_datetime(df['date'],format=\"%d/%m/%Y\").dt.date"
   ]
  },
  {
   "cell_type": "markdown",
   "metadata": {},
   "source": [
    "Para definir cómo dividir el dataset en distintos periodos de tiempo, miremos primero cuántos documentos tenemos y cómo se distribuyen en el tiempo:"
   ]
  },
  {
   "cell_type": "code",
   "execution_count": 6,
   "metadata": {},
   "outputs": [
    {
     "data": {
      "text/html": [
       "<div>\n",
       "<style scoped>\n",
       "    .dataframe tbody tr th:only-of-type {\n",
       "        vertical-align: middle;\n",
       "    }\n",
       "\n",
       "    .dataframe tbody tr th {\n",
       "        vertical-align: top;\n",
       "    }\n",
       "\n",
       "    .dataframe thead th {\n",
       "        text-align: right;\n",
       "    }\n",
       "</style>\n",
       "<table border=\"1\" class=\"dataframe\">\n",
       "  <thead>\n",
       "    <tr style=\"text-align: right;\">\n",
       "      <th></th>\n",
       "      <th>fecha</th>\n",
       "      <th>documentos</th>\n",
       "    </tr>\n",
       "  </thead>\n",
       "  <tbody>\n",
       "    <tr>\n",
       "      <th>0</th>\n",
       "      <td>2019-10-04</td>\n",
       "      <td>2</td>\n",
       "    </tr>\n",
       "    <tr>\n",
       "      <th>1</th>\n",
       "      <td>2019-10-05</td>\n",
       "      <td>3</td>\n",
       "    </tr>\n",
       "    <tr>\n",
       "      <th>2</th>\n",
       "      <td>2019-10-06</td>\n",
       "      <td>3</td>\n",
       "    </tr>\n",
       "    <tr>\n",
       "      <th>3</th>\n",
       "      <td>2019-10-07</td>\n",
       "      <td>8</td>\n",
       "    </tr>\n",
       "    <tr>\n",
       "      <th>4</th>\n",
       "      <td>2019-10-08</td>\n",
       "      <td>5</td>\n",
       "    </tr>\n",
       "    <tr>\n",
       "      <th>...</th>\n",
       "      <td>...</td>\n",
       "      <td>...</td>\n",
       "    </tr>\n",
       "    <tr>\n",
       "      <th>66</th>\n",
       "      <td>2019-12-09</td>\n",
       "      <td>6</td>\n",
       "    </tr>\n",
       "    <tr>\n",
       "      <th>67</th>\n",
       "      <td>2019-12-10</td>\n",
       "      <td>6</td>\n",
       "    </tr>\n",
       "    <tr>\n",
       "      <th>68</th>\n",
       "      <td>2019-12-11</td>\n",
       "      <td>8</td>\n",
       "    </tr>\n",
       "    <tr>\n",
       "      <th>69</th>\n",
       "      <td>2019-12-12</td>\n",
       "      <td>7</td>\n",
       "    </tr>\n",
       "    <tr>\n",
       "      <th>70</th>\n",
       "      <td>2019-12-13</td>\n",
       "      <td>7</td>\n",
       "    </tr>\n",
       "  </tbody>\n",
       "</table>\n",
       "<p>71 rows × 2 columns</p>\n",
       "</div>"
      ],
      "text/plain": [
       "         fecha  documentos\n",
       "0   2019-10-04           2\n",
       "1   2019-10-05           3\n",
       "2   2019-10-06           3\n",
       "3   2019-10-07           8\n",
       "4   2019-10-08           5\n",
       "..         ...         ...\n",
       "66  2019-12-09           6\n",
       "67  2019-12-10           6\n",
       "68  2019-12-11           8\n",
       "69  2019-12-12           7\n",
       "70  2019-12-13           7\n",
       "\n",
       "[71 rows x 2 columns]"
      ]
     },
     "execution_count": 6,
     "metadata": {},
     "output_type": "execute_result"
    }
   ],
   "source": [
    "#Contar el número de documentos por fecha\n",
    "query=\"\"\"SELECT date as fecha,count(*) as documentos\n",
    "FROM df GROUP BY date;\"\"\"\n",
    "result=sqldf(query)\n",
    "result"
   ]
  },
  {
   "cell_type": "markdown",
   "metadata": {},
   "source": [
    "En este ejemplo, divideremos los datos en cinco segmentos de dos semanas:"
   ]
  },
  {
   "cell_type": "code",
   "execution_count": 7,
   "metadata": {},
   "outputs": [
    {
     "data": {
      "text/plain": [
       "<Figure size 2400x1200 with 1 Axes>"
      ]
     },
     "metadata": {},
     "output_type": "display_data"
    }
   ],
   "source": [
    "# libraries\n",
    "import matplotlib.pyplot as plt\n",
    "import numpy as np\n",
    "import seaborn as sns\n",
    "plt.rcParams['figure.figsize'] = [24, 12]\n",
    "\n",
    "time_plot = sns.lineplot(x='fecha',\n",
    "                         y='documentos',\n",
    "                         data=result\n",
    "                         ).set_title('Número de documentos por día')\n",
    "plt.xticks(rotation=70)\n",
    "plt.tick_params(labelsize=12)\n",
    "\n",
    "plt.axvline(x='2019-10-04',color='red')\n",
    "plt.axvline(x='2019-10-18',color='red')\n",
    "plt.axvline(x='2019-11-01',color='red')\n",
    "plt.axvline(x='2019-11-15',color='red')\n",
    "plt.axvline(x='2019-11-29',color='red')\n",
    "plt.axvline(x='2019-12-13',color='red')\n",
    "\n",
    "plt.show()"
   ]
  },
  {
   "cell_type": "code",
   "execution_count": 11,
   "metadata": {},
   "outputs": [
    {
     "data": {
      "text/html": [
       "<div>\n",
       "<style scoped>\n",
       "    .dataframe tbody tr th:only-of-type {\n",
       "        vertical-align: middle;\n",
       "    }\n",
       "\n",
       "    .dataframe tbody tr th {\n",
       "        vertical-align: top;\n",
       "    }\n",
       "\n",
       "    .dataframe thead th {\n",
       "        text-align: right;\n",
       "    }\n",
       "</style>\n",
       "<table border=\"1\" class=\"dataframe\">\n",
       "  <thead>\n",
       "    <tr style=\"text-align: right;\">\n",
       "      <th></th>\n",
       "      <th>'Week 1'</th>\n",
       "      <th>Number of documents</th>\n",
       "    </tr>\n",
       "  </thead>\n",
       "  <tbody>\n",
       "    <tr>\n",
       "      <th>0</th>\n",
       "      <td>Week 1</td>\n",
       "      <td>76</td>\n",
       "    </tr>\n",
       "    <tr>\n",
       "      <th>1</th>\n",
       "      <td>Week 2</td>\n",
       "      <td>119</td>\n",
       "    </tr>\n",
       "    <tr>\n",
       "      <th>2</th>\n",
       "      <td>Week 3</td>\n",
       "      <td>96</td>\n",
       "    </tr>\n",
       "    <tr>\n",
       "      <th>3</th>\n",
       "      <td>Week 4</td>\n",
       "      <td>84</td>\n",
       "    </tr>\n",
       "    <tr>\n",
       "      <th>4</th>\n",
       "      <td>Week 5</td>\n",
       "      <td>78</td>\n",
       "    </tr>\n",
       "  </tbody>\n",
       "</table>\n",
       "</div>"
      ],
      "text/plain": [
       "  'Week 1'  Number of documents\n",
       "0   Week 1                   76\n",
       "1   Week 2                  119\n",
       "2   Week 3                   96\n",
       "3   Week 4                   84\n",
       "4   Week 5                   78"
      ]
     },
     "execution_count": 11,
     "metadata": {},
     "output_type": "execute_result"
    }
   ],
   "source": [
    "q=\"\"\"SELECT 'Week 1',count(*) as 'Number of documents'\n",
    "FROM df WHERE date BETWEEN \"2019-10-04\" AND \"2019-10-17\"\n",
    "UNION\n",
    "SELECT 'Week 2',count(*) as 'Number of documents'\n",
    "FROM df WHERE date BETWEEN \"2019-10-18\" AND \"2019-10-31\"\n",
    "UNION\n",
    "SELECT 'Week 3',count(*) as 'Number of documents'\n",
    "FROM df WHERE date BETWEEN \"2019-11-01\" AND \"2019-11-15\"\n",
    "UNION\n",
    "SELECT 'Week 4',count(*) as 'Number of documents'\n",
    "FROM df WHERE date BETWEEN \"2019-11-16\" AND \"2019-11-29\"\n",
    "UNION\n",
    "SELECT 'Week 5',count(*) as 'Number of documents'\n",
    "FROM df WHERE date BETWEEN \"2019-11-30\" AND \"2019-12-13\"\n",
    ";\"\"\"\n",
    "result=sqldf(q)\n",
    "result"
   ]
  },
  {
   "cell_type": "markdown",
   "metadata": {},
   "source": [
    "Para identificar los _slices_, conservamos el número de documentos por cada segmento:"
   ]
  },
  {
   "cell_type": "code",
   "execution_count": 8,
   "metadata": {},
   "outputs": [],
   "source": [
    "index_slices=[76,119,96,84,78]"
   ]
  },
  {
   "cell_type": "markdown",
   "metadata": {},
   "source": [
    "# 2. Preprocesamientos: filtrar palabras según categoría gramatical y/o extraer palabras claves"
   ]
  },
  {
   "cell_type": "code",
   "execution_count": 9,
   "metadata": {},
   "outputs": [],
   "source": [
    "import spacy\n",
    "nlp = spacy.load('es_core_news_md', disable=['parser','ner','textcat','...'] )"
   ]
  },
  {
   "cell_type": "code",
   "execution_count": 10,
   "metadata": {},
   "outputs": [],
   "source": [
    "def getNouns(dataFrame,columnName):\n",
    "    \n",
    "    for index,rows in dataFrame.iterrows():\n",
    "        \n",
    "        text=rows[columnName]\n",
    "        \n",
    "        filteredText=\"\"\n",
    "        \n",
    "        tokens = nlp(text)\n",
    "        \n",
    "        for token in tokens:\n",
    "            if token.pos_ == \"NOUN\" :\n",
    "                filteredText=filteredText+\" \"+str(token.text.lower().strip())\n",
    "                \n",
    "        dataFrame.loc[index,'nouns']=filteredText"
   ]
  },
  {
   "cell_type": "code",
   "execution_count": 11,
   "metadata": {},
   "outputs": [
    {
     "name": "stdout",
     "output_type": "stream",
     "text": [
      "Wall time: 9.49 s\n"
     ]
    }
   ],
   "source": [
    "%%time\n",
    "getNouns(df,\"text\")"
   ]
  },
  {
   "cell_type": "code",
   "execution_count": 12,
   "metadata": {},
   "outputs": [],
   "source": [
    "#Código from: https://towardsdatascience.com/textrank-for-keyword-extraction-by-python-c0bae21bcec0\n",
    "\n",
    "from collections import OrderedDict\n",
    "import numpy as np\n",
    "\n",
    "from spacy.lang.es.stop_words import STOP_WORDS\n",
    "\n",
    "nlp.add_pipe(nlp.create_pipe('sentencizer'))\n",
    "\n",
    "class TextRank4Keyword():\n",
    "    \"\"\"Extract keywords from text\"\"\"\n",
    "    \n",
    "    def __init__(self):\n",
    "        self.d = 0.85 # damping coefficient, usually is .85\n",
    "        self.min_diff = 1e-5 # convergence threshold\n",
    "        self.steps = 10 # iteration steps\n",
    "        self.node_weight = None # save keywords and its weight\n",
    "\n",
    "    \n",
    "    def set_stopwords(self, stopwords):  \n",
    "        \"\"\"Set stop words\"\"\"\n",
    "        for word in STOP_WORDS.union(set(stopwords)):\n",
    "            lexeme = nlp.vocab[word]\n",
    "            lexeme.is_stop = True\n",
    "    \n",
    "    def sentence_segment(self, doc, candidate_pos, lower):\n",
    "        \"\"\"Store those words only in cadidate_pos\"\"\"\n",
    "        sentences = []\n",
    "        for sent in doc.sents:\n",
    "            selected_words = []\n",
    "            for token in sent:\n",
    "                # Store words only with cadidate POS tag\n",
    "                if token.pos_ in candidate_pos and token.is_stop is False:\n",
    "                    if lower is True:\n",
    "                        selected_words.append(token.text.lower())\n",
    "                    else:\n",
    "                        selected_words.append(token.text)\n",
    "            sentences.append(selected_words)\n",
    "        return sentences\n",
    "        \n",
    "    def get_vocab(self, sentences):\n",
    "        \"\"\"Get all tokens\"\"\"\n",
    "        vocab = OrderedDict()\n",
    "        i = 0\n",
    "        for sentence in sentences:\n",
    "            for word in sentence:\n",
    "                if word not in vocab:\n",
    "                    vocab[word] = i\n",
    "                    i += 1\n",
    "        return vocab\n",
    "    \n",
    "    def get_token_pairs(self, window_size, sentences):\n",
    "        \"\"\"Build token_pairs from windows in sentences\"\"\"\n",
    "        token_pairs = list()\n",
    "        for sentence in sentences:\n",
    "            for i, word in enumerate(sentence):\n",
    "                for j in range(i+1, i+window_size):\n",
    "                    if j >= len(sentence):\n",
    "                        break\n",
    "                    pair = (word, sentence[j])\n",
    "                    if pair not in token_pairs:\n",
    "                        token_pairs.append(pair)\n",
    "        return token_pairs\n",
    "        \n",
    "    def symmetrize(self, a):\n",
    "        return a + a.T - np.diag(a.diagonal())\n",
    "    \n",
    "    def get_matrix(self, vocab, token_pairs):\n",
    "        \"\"\"Get normalized matrix\"\"\"\n",
    "        # Build matrix\n",
    "        vocab_size = len(vocab)\n",
    "        g = np.zeros((vocab_size, vocab_size), dtype='float')\n",
    "        for word1, word2 in token_pairs:\n",
    "            i, j = vocab[word1], vocab[word2]\n",
    "            g[i][j] = 1\n",
    "            \n",
    "        # Get Symmeric matrix\n",
    "        g = self.symmetrize(g)\n",
    "        \n",
    "        # Normalize matrix by column\n",
    "        norm = np.sum(g, axis=0)\n",
    "        g_norm = np.divide(g, norm, where=norm!=0) # this is ignore the 0 element in norm\n",
    "        \n",
    "        return g_norm\n",
    "\n",
    "    \n",
    "    def get_keywords(self, number=10):\n",
    "        \"\"\"Print top number keywords\"\"\"\n",
    "        l_keywords = []\n",
    "        node_weight = OrderedDict(sorted(self.node_weight.items(), key=lambda t: t[1], reverse=True))\n",
    "        for i, (key, value) in enumerate(node_weight.items()):\n",
    "            #print(key + ' - ' + str(value))\n",
    "            l_keywords.append( (key, value) )\n",
    "            if i > number:\n",
    "                break\n",
    "        return l_keywords\n",
    "        \n",
    "        \n",
    "    def analyze(self, text, \n",
    "                candidate_pos=['NOUN', 'PROPN'], \n",
    "                window_size=4, lower=False, stopwords=list()):\n",
    "        \"\"\"Main function to analyze text\"\"\"\n",
    "        \n",
    "        # Set stop words\n",
    "        self.set_stopwords(stopwords)\n",
    "        \n",
    "        # Pare text by spaCy\n",
    "        doc = nlp(text) #, disable=['parser'])\n",
    "        \n",
    "        # Filter sentences\n",
    "        sentences = self.sentence_segment(doc, candidate_pos, lower) # list of list of words\n",
    "        \n",
    "        # Build vocabulary\n",
    "        vocab = self.get_vocab(sentences)\n",
    "        \n",
    "        # Get token_pairs from windows\n",
    "        token_pairs = self.get_token_pairs(window_size, sentences)\n",
    "        \n",
    "        # Get normalized matrix\n",
    "        g = self.get_matrix(vocab, token_pairs)\n",
    "        \n",
    "        # Initionlization for weight(pagerank value)\n",
    "        pr = np.array([1] * len(vocab))\n",
    "        \n",
    "        # Iteration\n",
    "        previous_pr = 0\n",
    "        for epoch in range(self.steps):\n",
    "            pr = (1-self.d) + self.d * np.dot(g, pr)\n",
    "            if abs(previous_pr - sum(pr))  < self.min_diff:\n",
    "                break\n",
    "            else:\n",
    "                previous_pr = sum(pr)\n",
    "\n",
    "        # Get weight for each node\n",
    "        node_weight = dict()\n",
    "        for word, index in vocab.items():\n",
    "            node_weight[word] = pr[index]\n",
    "        \n",
    "        self.node_weight = node_weight"
   ]
  },
  {
   "cell_type": "code",
   "execution_count": 14,
   "metadata": {},
   "outputs": [],
   "source": [
    "def getKeywords(dataFrame,columnName):\n",
    "    \n",
    "    for index,rows in dataFrame.iterrows():\n",
    "        \n",
    "        text=rows[columnName]\n",
    "        \n",
    "        keywords=\"\"\n",
    "        \n",
    "        tr4w = TextRank4Keyword()\n",
    "        tr4w.analyze(text, candidate_pos = ['NOUN'], window_size=4, lower=False)\n",
    "    \n",
    "        tokens = tr4w.get_keywords(20)\n",
    "\n",
    "        for token in tokens:\n",
    "\n",
    "            keywords=keywords+\" \"+str(token[0])\n",
    "                \n",
    "        dataFrame.loc[index,'keywords']=keywords"
   ]
  },
  {
   "cell_type": "code",
   "execution_count": 15,
   "metadata": {},
   "outputs": [
    {
     "name": "stdout",
     "output_type": "stream",
     "text": [
      "Wall time: 9.87 s\n"
     ]
    }
   ],
   "source": [
    "%%time\n",
    "getKeywords(df,\"text\")"
   ]
  },
  {
   "cell_type": "code",
   "execution_count": 24,
   "metadata": {},
   "outputs": [
    {
     "data": {
      "text/html": [
       "<div>\n",
       "<style scoped>\n",
       "    .dataframe tbody tr th:only-of-type {\n",
       "        vertical-align: middle;\n",
       "    }\n",
       "\n",
       "    .dataframe tbody tr th {\n",
       "        vertical-align: top;\n",
       "    }\n",
       "\n",
       "    .dataframe thead th {\n",
       "        text-align: right;\n",
       "    }\n",
       "</style>\n",
       "<table border=\"1\" class=\"dataframe\">\n",
       "  <thead>\n",
       "    <tr style=\"text-align: right;\">\n",
       "      <th></th>\n",
       "      <th>url</th>\n",
       "      <th>date</th>\n",
       "      <th>text</th>\n",
       "      <th>nouns</th>\n",
       "      <th>keywords</th>\n",
       "    </tr>\n",
       "  </thead>\n",
       "  <tbody>\n",
       "    <tr>\n",
       "      <th>0</th>\n",
       "      <td>https://www.eldinamo.cl/nacional/2019/12/13/mo...</td>\n",
       "      <td>2019-12-13</td>\n",
       "      <td>El ministro de Vivienda  Cristián Monckeberg  ...</td>\n",
       "      <td>ministro investigación cabo caso corrupción i...</td>\n",
       "      <td>funcionarios delitos hechos corrupción person...</td>\n",
       "    </tr>\n",
       "    <tr>\n",
       "      <th>1</th>\n",
       "      <td>https://www.eldinamo.cl/nacional/2019/12/13/go...</td>\n",
       "      <td>2019-12-13</td>\n",
       "      <td>La Moneda informó que Sebastián Piñera decretó...</td>\n",
       "      <td>días accidente saldo víctimas mensaje apoyo s...</td>\n",
       "      <td>víctimas sedes pasajeros familiares cuerpos t...</td>\n",
       "    </tr>\n",
       "    <tr>\n",
       "      <th>2</th>\n",
       "      <td>https://www.eldinamo.cl/nacional/2019/12/13/co...</td>\n",
       "      <td>2019-12-13</td>\n",
       "      <td>La Corte de apelaciones de Santiago declaró ad...</td>\n",
       "      <td>apelaciones querella intendente dirigente inc...</td>\n",
       "      <td>libertad dirigente resolución expresión derec...</td>\n",
       "    </tr>\n",
       "    <tr>\n",
       "      <th>3</th>\n",
       "      <td>https://www.eldinamo.cl/nacional/2019/12/13/in...</td>\n",
       "      <td>2019-12-13</td>\n",
       "      <td>Luego que durante esta mañana la Organización ...</td>\n",
       "      <td>mañana informe situación estallido reacciones...</td>\n",
       "      <td>informe violencia violaciones reparación ofic...</td>\n",
       "    </tr>\n",
       "    <tr>\n",
       "      <th>4</th>\n",
       "      <td>https://www.eldinamo.cl/nacional/2019/12/13/in...</td>\n",
       "      <td>2019-12-13</td>\n",
       "      <td>Tras varias semanas de espera  la misión de ob...</td>\n",
       "      <td>semanas espera misión observadores informe es...</td>\n",
       "      <td>informe personas derechos forma manifestacion...</td>\n",
       "    </tr>\n",
       "  </tbody>\n",
       "</table>\n",
       "</div>"
      ],
      "text/plain": [
       "                                                 url        date  \\\n",
       "0  https://www.eldinamo.cl/nacional/2019/12/13/mo...  2019-12-13   \n",
       "1  https://www.eldinamo.cl/nacional/2019/12/13/go...  2019-12-13   \n",
       "2  https://www.eldinamo.cl/nacional/2019/12/13/co...  2019-12-13   \n",
       "3  https://www.eldinamo.cl/nacional/2019/12/13/in...  2019-12-13   \n",
       "4  https://www.eldinamo.cl/nacional/2019/12/13/in...  2019-12-13   \n",
       "\n",
       "                                                text  \\\n",
       "0  El ministro de Vivienda  Cristián Monckeberg  ...   \n",
       "1  La Moneda informó que Sebastián Piñera decretó...   \n",
       "2  La Corte de apelaciones de Santiago declaró ad...   \n",
       "3  Luego que durante esta mañana la Organización ...   \n",
       "4  Tras varias semanas de espera  la misión de ob...   \n",
       "\n",
       "                                               nouns  \\\n",
       "0   ministro investigación cabo caso corrupción i...   \n",
       "1   días accidente saldo víctimas mensaje apoyo s...   \n",
       "2   apelaciones querella intendente dirigente inc...   \n",
       "3   mañana informe situación estallido reacciones...   \n",
       "4   semanas espera misión observadores informe es...   \n",
       "\n",
       "                                            keywords  \n",
       "0   funcionarios delitos hechos corrupción person...  \n",
       "1   víctimas sedes pasajeros familiares cuerpos t...  \n",
       "2   libertad dirigente resolución expresión derec...  \n",
       "3   informe violencia violaciones reparación ofic...  \n",
       "4   informe personas derechos forma manifestacion...  "
      ]
     },
     "execution_count": 24,
     "metadata": {},
     "output_type": "execute_result"
    }
   ],
   "source": [
    "df[:5]"
   ]
  },
  {
   "cell_type": "markdown",
   "metadata": {},
   "source": [
    "# 4. Representación vectorial de los documentos"
   ]
  },
  {
   "cell_type": "markdown",
   "metadata": {},
   "source": [
    "Utilizaremos la columna \"keywords\" como simplificación de los documentos."
   ]
  },
  {
   "cell_type": "code",
   "execution_count": 16,
   "metadata": {},
   "outputs": [],
   "source": [
    "from gensim.models import TfidfModel\n",
    "from gensim.corpora import Dictionary\n",
    "\n",
    "documents=list(df['keywords'])\n",
    "documents=[x.split(\" \") for x in documents]\n",
    "\n",
    "dictionary = Dictionary(documents)\n",
    "\n",
    "#dictionary.filter_extremes(no_below=0,no_above=0.99)\n",
    "\n",
    "dictionary.filter_n_most_frequent(1)\n",
    "\n",
    "corpus = [dictionary.doc2bow(doc) for doc in documents] \n",
    "\n",
    "model = TfidfModel(corpus)\n",
    "\n",
    "vectorizedCorpus = model[corpus]"
   ]
  },
  {
   "cell_type": "markdown",
   "metadata": {},
   "source": [
    "## 3. Optimización de modelos de tópicos dinámicos"
   ]
  },
  {
   "cell_type": "markdown",
   "metadata": {},
   "source": [
    "Comenzaremos estimando el modelo con 3 tópicos y veremos la convergencia con ayuda del log de la verosimilitud (del modelo aproximado) con todos los datos."
   ]
  },
  {
   "cell_type": "code",
   "execution_count": 25,
   "metadata": {},
   "outputs": [
    {
     "name": "stderr",
     "output_type": "stream",
     "text": [
      "C:\\ProgramData\\Anaconda3\\lib\\site-packages\\gensim\\models\\ldaseqmodel.py:293: RuntimeWarning: divide by zero encountered in double_scalars\n",
      "  convergence = np.fabs((bound - old_bound) / old_bound)\n",
      "C:\\ProgramData\\Anaconda3\\lib\\site-packages\\gensim\\models\\ldaseqmodel.py:293: RuntimeWarning: divide by zero encountered in double_scalars\n",
      "  convergence = np.fabs((bound - old_bound) / old_bound)\n",
      "C:\\ProgramData\\Anaconda3\\lib\\site-packages\\gensim\\models\\ldaseqmodel.py:293: RuntimeWarning: divide by zero encountered in double_scalars\n",
      "  convergence = np.fabs((bound - old_bound) / old_bound)\n",
      "C:\\ProgramData\\Anaconda3\\lib\\site-packages\\gensim\\models\\ldaseqmodel.py:293: RuntimeWarning: divide by zero encountered in double_scalars\n",
      "  convergence = np.fabs((bound - old_bound) / old_bound)\n",
      "C:\\ProgramData\\Anaconda3\\lib\\site-packages\\gensim\\models\\ldaseqmodel.py:293: RuntimeWarning: divide by zero encountered in double_scalars\n",
      "  convergence = np.fabs((bound - old_bound) / old_bound)\n"
     ]
    }
   ],
   "source": [
    "from gensim.models import ldaseqmodel\n",
    "from gensim.models import LdaSeqModel\n",
    "ldaseq = ldaseqmodel.LdaSeqModel(corpus=corpus, id2word=dictionary, time_slice=index_slices, \n",
    "                                 num_topics=3,\n",
    "                                 chain_variance=0.05,\n",
    "                                 alphas=0.9,\n",
    "                                 passes=10,\n",
    "                                 chunksize=50,\n",
    "                                 em_min_iter=6,\n",
    "                                 em_max_iter=10)\n",
    "\n",
    "lver = []\n",
    "niter = [10,20,30, 40,50,75,100]\n",
    "for i in range(7):\n",
    "    ll= ldaseq.fit_lda_seq(corpus=corpus, \n",
    "                   lda_inference_max_iter=niter[i], \n",
    "                   em_min_iter =6, \n",
    "                   em_max_iter =10, \n",
    "                   chunksize=50)\n",
    "    lver.append(ll)\n"
   ]
  },
  {
   "cell_type": "code",
   "execution_count": 26,
   "metadata": {},
   "outputs": [
    {
     "data": {
      "text/plain": [
       "[<matplotlib.lines.Line2D at 0x1e9754992b0>]"
      ]
     },
     "execution_count": 26,
     "metadata": {},
     "output_type": "execute_result"
    },
    {
     "data": {
      "image/png": "[encoded data removed]",
      "text/plain": [
       "<Figure size 432x288 with 1 Axes>"
      ]
     },
     "metadata": {
      "needs_background": "light"
     },
     "output_type": "display_data"
    }
   ],
   "source": [
    "import matplotlib.pyplot as plt\n",
    "niter = [10,20,30, 40,50,75,100]\n",
    "plt.plot(niter[0:7],lver[0:7])"
   ]
  },
  {
   "cell_type": "markdown",
   "metadata": {},
   "source": [
    "**Ejercicio 1:**\n",
    "Investigue el rol de los parámetros de entrada de la clase LdaSeqModel, sus valores por omisión y cuales son los criterios para modificar dichos valores.\n"
   ]
  },
  {
   "cell_type": "markdown",
   "metadata": {},
   "source": [
    "Entrenamos modelos con k_topics entre 3 y 10, y guardamos los modelos en archivos."
   ]
  },
  {
   "cell_type": "code",
   "execution_count": 27,
   "metadata": {},
   "outputs": [
    {
     "name": "stderr",
     "output_type": "stream",
     "text": [
      "C:\\ProgramData\\Anaconda3\\lib\\site-packages\\gensim\\models\\ldaseqmodel.py:293: RuntimeWarning: divide by zero encountered in double_scalars\n",
      "  convergence = np.fabs((bound - old_bound) / old_bound)\n"
     ]
    },
    {
     "name": "stdout",
     "output_type": "stream",
     "text": [
      "3 Topics - Tiempo necesario para la optimización del modelo: 174.25915503501892\n",
      "D:/model_3_topics\n"
     ]
    },
    {
     "name": "stderr",
     "output_type": "stream",
     "text": [
      "C:\\ProgramData\\Anaconda3\\lib\\site-packages\\gensim\\models\\ldaseqmodel.py:293: RuntimeWarning: divide by zero encountered in double_scalars\n",
      "  convergence = np.fabs((bound - old_bound) / old_bound)\n"
     ]
    },
    {
     "name": "stdout",
     "output_type": "stream",
     "text": [
      "4 Topics - Tiempo necesario para la optimización del modelo: 211.93650341033936\n",
      "D:/model_4_topics\n"
     ]
    },
    {
     "name": "stderr",
     "output_type": "stream",
     "text": [
      "C:\\ProgramData\\Anaconda3\\lib\\site-packages\\gensim\\models\\ldaseqmodel.py:293: RuntimeWarning: divide by zero encountered in double_scalars\n",
      "  convergence = np.fabs((bound - old_bound) / old_bound)\n"
     ]
    },
    {
     "name": "stdout",
     "output_type": "stream",
     "text": [
      "5 Topics - Tiempo necesario para la optimización del modelo: 247.05357718467712\n",
      "D:/model_5_topics\n"
     ]
    },
    {
     "name": "stderr",
     "output_type": "stream",
     "text": [
      "C:\\ProgramData\\Anaconda3\\lib\\site-packages\\gensim\\models\\ldaseqmodel.py:293: RuntimeWarning: divide by zero encountered in double_scalars\n",
      "  convergence = np.fabs((bound - old_bound) / old_bound)\n"
     ]
    },
    {
     "name": "stdout",
     "output_type": "stream",
     "text": [
      "6 Topics - Tiempo necesario para la optimización del modelo: 274.448370218277\n",
      "D:/model_6_topics\n"
     ]
    },
    {
     "name": "stderr",
     "output_type": "stream",
     "text": [
      "C:\\ProgramData\\Anaconda3\\lib\\site-packages\\gensim\\models\\ldaseqmodel.py:293: RuntimeWarning: divide by zero encountered in double_scalars\n",
      "  convergence = np.fabs((bound - old_bound) / old_bound)\n"
     ]
    },
    {
     "name": "stdout",
     "output_type": "stream",
     "text": [
      "7 Topics - Tiempo necesario para la optimización del modelo: 307.48544907569885\n",
      "D:/model_7_topics\n"
     ]
    },
    {
     "name": "stderr",
     "output_type": "stream",
     "text": [
      "C:\\ProgramData\\Anaconda3\\lib\\site-packages\\gensim\\models\\ldaseqmodel.py:293: RuntimeWarning: divide by zero encountered in double_scalars\n",
      "  convergence = np.fabs((bound - old_bound) / old_bound)\n"
     ]
    },
    {
     "name": "stdout",
     "output_type": "stream",
     "text": [
      "8 Topics - Tiempo necesario para la optimización del modelo: 346.34604573249817\n",
      "D:/model_8_topics\n"
     ]
    },
    {
     "name": "stderr",
     "output_type": "stream",
     "text": [
      "C:\\ProgramData\\Anaconda3\\lib\\site-packages\\gensim\\models\\ldaseqmodel.py:293: RuntimeWarning: divide by zero encountered in double_scalars\n",
      "  convergence = np.fabs((bound - old_bound) / old_bound)\n"
     ]
    },
    {
     "name": "stdout",
     "output_type": "stream",
     "text": [
      "9 Topics - Tiempo necesario para la optimización del modelo: 372.4319517612457\n",
      "D:/model_9_topics\n"
     ]
    },
    {
     "name": "stderr",
     "output_type": "stream",
     "text": [
      "C:\\ProgramData\\Anaconda3\\lib\\site-packages\\gensim\\models\\ldaseqmodel.py:293: RuntimeWarning: divide by zero encountered in double_scalars\n",
      "  convergence = np.fabs((bound - old_bound) / old_bound)\n"
     ]
    },
    {
     "name": "stdout",
     "output_type": "stream",
     "text": [
      "10 Topics - Tiempo necesario para la optimización del modelo: 392.5206756591797\n",
      "D:/model_10_topics\n",
      "Wall time: 38min 46s\n"
     ]
    }
   ],
   "source": [
    "%%time\n",
    "from IPython.display import Audio\n",
    "import numpy as np\n",
    "\n",
    "from gensim.models import ldaseqmodel\n",
    "from gensim.corpora import Dictionary, bleicorpus\n",
    "from gensim.matutils import hellinger\n",
    "from gensim.models.coherencemodel import CoherenceModel\n",
    "from gensim.test.utils import common_corpus\n",
    "from gensim.test.utils import datapath\n",
    "\n",
    "import time\n",
    "\n",
    "k_topics=3\n",
    "DTM_models = []\n",
    "for i in range(8):\n",
    "\n",
    "    \n",
    "    init=time.time()\n",
    "\n",
    "    s=time.time()\n",
    "\n",
    "    ldaseq = ldaseqmodel.LdaSeqModel(corpus=corpus, id2word=dictionary, time_slice=index_slices, \n",
    "                                 num_topics=k_topics+i,\n",
    "                                 chain_variance=0.1,\n",
    "                                 alphas=0.9,\n",
    "                                 passes=40,\n",
    "                                 chunksize=50,\n",
    "                                 em_min_iter=6,\n",
    "                                 em_max_iter=20)\n",
    "\n",
    "    DTM_models.append(ldaseq)\n",
    "\n",
    "    e=time.time()\n",
    "    print(str(k_topics+i)+\" Topics - Tiempo necesario para la optimización del modelo:\",(e-s))\n",
    "\n",
    "    end=time.time()\n",
    "    #print(end-init)\n",
    "    \n",
    "    #se guarda el modelo\n",
    "    path_of_model = datapath(\"D:/model_\"+str(k_topics+i)+\"_topics\")\n",
    "    print(path_of_model)\n",
    "    ldaseq.save(path_of_model)"
   ]
  },
  {
   "cell_type": "markdown",
   "metadata": {},
   "source": [
    "# 4. Evaluación de los modelos"
   ]
  },
  {
   "cell_type": "code",
   "execution_count": 28,
   "metadata": {},
   "outputs": [],
   "source": [
    "from gensim.models import LdaSeqModel\n",
    "from gensim.models.coherencemodel import CoherenceModel\n",
    "\n",
    "k_topics=3\n",
    "\n",
    "cv=list()\n",
    "umass =list()\n",
    "cuci = list()\n",
    "cnpmi = list()\n",
    "\n",
    "for i in range(8):\n",
    "    #path_of_model = datapath(\"D:/model_\"+str(k_topics+i)+\"_topics\")\n",
    "    ldaseq = LdaSeqModel.load(\"D:/model_\"+str(k_topics+i)+\"_topics\")\n",
    "    \n",
    "    values_cv=list()\n",
    "    values_umass = list()\n",
    "    values_cuci = list()\n",
    "    values_cnpmi = list()\n",
    "    \n",
    "    for time_fragment in range(5):\n",
    "        topics_wrapper = ldaseq.dtm_coherence(time=time_fragment)\n",
    "        cm_wrapper_cv = CoherenceModel(topics=topics_wrapper, texts=documents, dictionary=dictionary, coherence='c_v')\n",
    "        cm_wrapper_umass = CoherenceModel(topics=topics_wrapper, texts=documents, dictionary=dictionary, coherence='u_mass')\n",
    "        cm_wrapper_cuci = CoherenceModel(topics=topics_wrapper, texts=documents, dictionary=dictionary, coherence='c_uci')\n",
    "        cm_wrapper_cnpmi = CoherenceModel(topics=topics_wrapper, texts=documents, dictionary=dictionary, coherence='c_npmi')\n",
    "        values_cv.append(cm_wrapper_cv.get_coherence())\n",
    "        values_umass.append(cm_wrapper_umass.get_coherence())\n",
    "        values_cuci.append(cm_wrapper_cuci.get_coherence())\n",
    "        values_cnpmi.append(cm_wrapper_cnpmi.get_coherence())\n",
    "    \n",
    "    average_cv = sum(values_cv) / len(values_cv) \n",
    "    average_umass= sum(values_umass) / len(values_umass)\n",
    "    average_cuci = sum(values_cuci) / len(values_cuci)\n",
    "    average_cnpmi = sum(values_cnpmi) / len(values_cnpmi)\n",
    "    cv.append(average_cv)\n",
    "    umass.append(average_umass)\n",
    "    cuci.append(average_cuci)\n",
    "    cnpmi.append(average_cnpmi)\n",
    "    "
   ]
  },
  {
   "cell_type": "code",
   "execution_count": 31,
   "metadata": {},
   "outputs": [
    {
     "name": "stdout",
     "output_type": "stream",
     "text": [
      "[0.2855385218192582, 0.2519779592396151, 0.277874859918132, 0.29348807359006923, 0.28557802199153764, 0.31071713804934004, 0.32379004645568127, 0.29425891860978626]\n",
      "[-4.507486025635008, -5.348603522331306, -7.239198188725103, -7.176107280233947, -7.011877135897793, -7.841396796377981, -8.549599583057054, -8.072348334927703]\n",
      "[-3.171092711477475, -4.517658885009997, -6.122690697740307, -6.006341360691924, -5.671892428579081, -6.641335166081872, -7.3254792978911665, -6.628756560651885]\n",
      "[-0.07854034941265985, -0.12911245774605523, -0.18992109607572183, -0.1763394136274577, -0.15918035362553323, -0.19393386403465937, -0.2200627771133857, -0.19010430153876356]\n"
     ]
    }
   ],
   "source": [
    "print(cv)\n",
    "print(umass)\n",
    "print(cuci)\n",
    "print(cnpmi)"
   ]
  },
  {
   "cell_type": "code",
   "execution_count": 33,
   "metadata": {},
   "outputs": [
    {
     "data": {
      "image/png": "[encoded data removed]",
      "text/plain": [
       "<Figure size 1080x864 with 4 Axes>"
      ]
     },
     "metadata": {
      "needs_background": "light"
     },
     "output_type": "display_data"
    }
   ],
   "source": [
    "# libraries and data\n",
    "import matplotlib.pyplot as plt\n",
    "import numpy as np\n",
    "\n",
    "xvalues=[\"3\",\"4\",\"5\",\"6\",\"7\",\"8\",\"9\",\"10\"]\n",
    "\n",
    "\n",
    "fig, ax = plt.subplots(2,2,figsize=(15,12))\n",
    "\n",
    "df=pd.DataFrame({'xvalues': xvalues, 'yvalues': cv })\n",
    "ax[0,0].plot( 'xvalues', 'yvalues', data=df, label=\"c_v\")\n",
    "ax[0,0].set_xlabel('Modelo con K tópicos')\n",
    "ax[0,0].set_ylabel('Puntaje de Coherencia')\n",
    "ax[0,0].legend()\n",
    "\n",
    "df=pd.DataFrame({'xvalues': xvalues, 'yvalues': umass })\n",
    "ax[0,1].plot( 'xvalues', 'yvalues', data=df, label=\"u_mass\")\n",
    "ax[0,1].set_xlabel('Modelo con K tópicos')\n",
    "ax[0,1].set_ylabel('Puntaje de Coherencia')\n",
    "ax[0,1].legend()\n",
    "\n",
    "\n",
    "df=pd.DataFrame({'xvalues': xvalues, 'yvalues': cuci })\n",
    "ax[1,0].plot( 'xvalues', 'yvalues', data=df, label=\"c_uci\")\n",
    "ax[1,0].set_xlabel('Modelo con K tópicos')\n",
    "ax[1,0].set_ylabel('Puntaje de Coherencia')\n",
    "ax[1,0].legend()\n",
    "\n",
    "df=pd.DataFrame({'xvalues': xvalues, 'yvalues': cnpmi })\n",
    "ax[1,1].plot( 'xvalues', 'yvalues', data=df, label=\"c_npmi\")\n",
    "ax[1,1].set_xlabel('Modelo con K tópicos')\n",
    "ax[1,1].set_ylabel('Puntaje de Coherencia')\n",
    "ax[1,1].legend()\n",
    "\n",
    "plt.show()\n"
   ]
  },
  {
   "cell_type": "code",
   "execution_count": 34,
   "metadata": {},
   "outputs": [],
   "source": [
    "#path_of_model = datapath(PATH+\"model_\"+str(8)+\"_topics\")\n",
    "ldaseq = LdaSeqModel.load(\"D:/model_3_topics\")"
   ]
  },
  {
   "cell_type": "markdown",
   "metadata": {},
   "source": [
    "# 5. Análisis de la evolución del discurso"
   ]
  },
  {
   "cell_type": "markdown",
   "metadata": {},
   "source": [
    "#### 5.1 Tópico 0"
   ]
  },
  {
   "cell_type": "code",
   "execution_count": 41,
   "metadata": {},
   "outputs": [],
   "source": [
    "table=[]\n",
    "for i in range(5):\n",
    "    row=[\"slice \"+str(i)]\n",
    "    keywords=ldaseq.print_topic(topic=0,time=i,top_terms=35)\n",
    "    for keyword in keywords:\n",
    "        row.append(str(keyword[0])+\", \"+str(round(keyword[1],3)))\n",
    "    table.append(row)"
   ]
  },
  {
   "cell_type": "code",
   "execution_count": 42,
   "metadata": {},
   "outputs": [
    {
     "data": {
      "text/html": [
       "<table>\n",
       "<tbody>\n",
       "<tr><td>slice 0</td><td>ministro, 0.016</td><td>país, 0.015    </td><td>presidente, 0.012</td><td>oposición, 0.01</td><td>crisis, 0.01    </td><td>violaciones, 0.01</td><td>acusación, 0.009  </td><td>forma, 0.009    </td><td>parlamentarios, 0.008</td><td>diputado, 0.007</td><td>medidas, 0.006    </td><td>proyecto, 0.006 </td><td>proceso, 0.006 </td><td>política, 0.006  </td><td>documento, 0.005</td><td>responsabilidad, 0.005</td><td>informe, 0.005   </td><td>marco, 0.005      </td><td>pensiones, 0.005</td><td>violencia, 0.005     </td><td>años, 0.005      </td><td>gente, 0.005    </td><td>manifestaciones, 0.005</td><td>partido, 0.004  </td><td>diputados, 0.004      </td><td>palabras, 0.004  </td><td>millones, 0.004   </td><td>personas, 0.004</td><td>ciudadanía, 0.004</td><td>estallido, 0.004      </td><td>cambio, 0.004   </td><td>comisión, 0.004 </td><td>democracia, 0.004 </td><td>demandas, 0.004 </td><td>vida, 0.004      </td></tr>\n",
       "<tr><td>slice 1</td><td>país, 0.015    </td><td>ministro, 0.013</td><td>presidente, 0.011</td><td>oposición, 0.01</td><td>crisis, 0.009   </td><td>forma, 0.009     </td><td>violaciones, 0.007</td><td>diputado, 0.007 </td><td>parlamentarios, 0.007</td><td>medidas, 0.006 </td><td>acusación, 0.006  </td><td>proceso, 0.006  </td><td>marco, 0.006   </td><td>proyecto, 0.006  </td><td>política, 0.006 </td><td>pensiones, 0.006      </td><td>palabras, 0.005  </td><td>millones, 0.005   </td><td>gente, 0.005    </td><td>demandas, 0.005      </td><td>ciudadanía, 0.005</td><td>informe, 0.005  </td><td>años, 0.005           </td><td>documento, 0.005</td><td>manifestaciones, 0.005</td><td>personas, 0.005  </td><td>violencia, 0.004  </td><td>partido, 0.004 </td><td>diputados, 0.004 </td><td>responsabilidad, 0.004</td><td>población, 0.004</td><td>reunión, 0.004  </td><td>diputada, 0.004   </td><td>vida, 0.004     </td><td>democracia, 0.004</td></tr>\n",
       "<tr><td>slice 2</td><td>país, 0.019    </td><td>ministro, 0.017</td><td>presidente, 0.012</td><td>crisis, 0.01   </td><td>oposición, 0.009</td><td>diputado, 0.007  </td><td>forma, 0.007      </td><td>proyecto, 0.007 </td><td>palabras, 0.007      </td><td>medidas, 0.007 </td><td>violaciones, 0.006</td><td>pensiones, 0.006</td><td>marco, 0.006   </td><td>ciudadanía, 0.006</td><td>proceso, 0.006  </td><td>parlamentarios, 0.006 </td><td>política, 0.005  </td><td>acusación, 0.005  </td><td>demandas, 0.005 </td><td>años, 0.005          </td><td>vida, 0.005      </td><td>población, 0.005</td><td>personas, 0.005       </td><td>gente, 0.005    </td><td>cargo, 0.004          </td><td>ley, 0.004       </td><td>diputada, 0.004   </td><td>reunión, 0.004 </td><td>millones, 0.004  </td><td>manifestaciones, 0.004</td><td>chilenos, 0.004 </td><td>gabinete, 0.004 </td><td>diputados, 0.004  </td><td>tema, 0.004     </td><td>democracia, 0.004</td></tr>\n",
       "<tr><td>slice 3</td><td>país, 0.025    </td><td>ministro, 0.016</td><td>presidente, 0.013</td><td>crisis, 0.009  </td><td>palabras, 0.007 </td><td>proyecto, 0.007  </td><td>diputado, 0.007   </td><td>oposición, 0.007</td><td>vida, 0.006          </td><td>marco, 0.006   </td><td>forma, 0.006      </td><td>pensiones, 0.006</td><td>medidas, 0.006 </td><td>política, 0.006  </td><td>años, 0.006     </td><td>personas, 0.006       </td><td>ciudadanía, 0.005</td><td>violaciones, 0.005</td><td>población, 0.005</td><td>parlamentarios, 0.005</td><td>proceso, 0.005   </td><td>chilenos, 0.005 </td><td>diputada, 0.005       </td><td>gabinete, 0.004 </td><td>tema, 0.004           </td><td>cargo, 0.004     </td><td>ley, 0.004        </td><td>derecho, 0.004 </td><td>reunión, 0.004   </td><td>demandas, 0.004       </td><td>cambio, 0.004   </td><td>acusación, 0.004</td><td>millones, 0.004   </td><td>diputados, 0.004</td><td>gente, 0.004     </td></tr>\n",
       "<tr><td>slice 4</td><td>país, 0.021    </td><td>ministro, 0.013</td><td>presidente, 0.013</td><td>proyecto, 0.009</td><td>palabras, 0.008 </td><td>crisis, 0.006    </td><td>diputado, 0.006   </td><td>vida, 0.006     </td><td>años, 0.006          </td><td>personas, 0.006</td><td>diputada, 0.006   </td><td>forma, 0.006    </td><td>política, 0.006</td><td>pensiones, 0.006 </td><td>marco, 0.006    </td><td>población, 0.005      </td><td>chilenos, 0.005  </td><td>proceso, 0.005    </td><td>tema, 0.005     </td><td>oposición, 0.005     </td><td>ley, 0.005       </td><td>medidas, 0.005  </td><td>derecho, 0.005        </td><td>inversión, 0.005</td><td>parlamentarios, 0.005 </td><td>ciudadanía, 0.004</td><td>violaciones, 0.004</td><td>cargo, 0.004   </td><td>millones, 0.004  </td><td>sistema, 0.004        </td><td>recursos, 0.004 </td><td>partido, 0.004  </td><td>posibilidad, 0.004</td><td>críticas, 0.004 </td><td>gente, 0.004     </td></tr>\n",
       "</tbody>\n",
       "</table>"
      ],
      "text/plain": [
       "<IPython.core.display.HTML object>"
      ]
     },
     "metadata": {},
     "output_type": "display_data"
    }
   ],
   "source": [
    "from IPython.display import HTML, display\n",
    "import tabulate\n",
    "\n",
    "display(HTML(tabulate.tabulate(table, tablefmt='html')))"
   ]
  },
  {
   "cell_type": "markdown",
   "metadata": {},
   "source": [
    "####  Dar un nombre al tópico 0\n",
    "\n",
    "\"Ministro-presidente-oposición-crisis-vida\" (?)"
   ]
  },
  {
   "cell_type": "markdown",
   "metadata": {},
   "source": [
    "#### Visualizar la evolución de ciertas palabras en un tópico dado"
   ]
  },
  {
   "cell_type": "code",
   "execution_count": 63,
   "metadata": {},
   "outputs": [
    {
     "name": "stdout",
     "output_type": "stream",
     "text": [
      "('ministro', 0.016170798071276936)\n",
      "('ministro', 0.01348838904769043)\n",
      "('ministro', 0.016699224083971613)\n",
      "('ministro', 0.016251337205150835)\n",
      "('ministro', 0.013357949491092803)\n"
     ]
    }
   ],
   "source": [
    "keyword=\"ministro\"\n",
    "topic=0\n",
    "xvalues1=[\"slice 0\",\"slice 1\",\"slice 2\", \"slice 3\", \"slice 4\"]\n",
    "yvalues1=[]\n",
    "\n",
    "for i in range(5):\n",
    "    keywords=ldaseq.print_topic(topic=0,time=i,top_terms=1000)\n",
    "    for k in keywords:\n",
    "        newValue=0\n",
    "        if (k[0] == keyword):\n",
    "            newValue=k[1]\n",
    "            print(k)\n",
    "            break\n",
    "    yvalues1.append(newValue)"
   ]
  },
  {
   "cell_type": "code",
   "execution_count": 64,
   "metadata": {},
   "outputs": [
    {
     "name": "stdout",
     "output_type": "stream",
     "text": [
      "('presidente', 0.011592463709655254)\n",
      "('presidente', 0.010702898797578667)\n",
      "('presidente', 0.011987038015282352)\n",
      "('presidente', 0.01268600708486762)\n",
      "('presidente', 0.012971699124141272)\n"
     ]
    }
   ],
   "source": [
    "keyword=\"presidente\"\n",
    "topic=0\n",
    "xvalues2=[\"slice 0\",\"slice 1\",\"slice 2\", \"slice 3\", \"slice 4\"]\n",
    "yvalues2=[]\n",
    "\n",
    "for i in range(5):\n",
    "    keywords=ldaseq.print_topic(topic=0,time=i,top_terms=1000)\n",
    "    for k in keywords:\n",
    "        newValue=0\n",
    "        if (k[0] == keyword):\n",
    "            newValue=k[1]\n",
    "            print(k)\n",
    "            break\n",
    "    yvalues2.append(newValue)"
   ]
  },
  {
   "cell_type": "code",
   "execution_count": 65,
   "metadata": {},
   "outputs": [
    {
     "name": "stdout",
     "output_type": "stream",
     "text": [
      "('oposición', 0.01013745694666837)\n",
      "('oposición', 0.010033526404372193)\n",
      "('oposición', 0.009174863977548622)\n",
      "('oposición', 0.006781000903458557)\n",
      "('oposición', 0.005237922582446443)\n"
     ]
    }
   ],
   "source": [
    "keyword=\"oposición\"\n",
    "topic=0\n",
    "xvalues3=[\"slice 0\",\"slice 1\",\"slice 2\", \"slice 3\", \"slice 4\"]\n",
    "yvalues3=[]\n",
    "\n",
    "for i in range(5):\n",
    "    keywords=ldaseq.print_topic(topic=0,time=i,top_terms=1000)\n",
    "    for k in keywords:\n",
    "        newValue=0\n",
    "        if (k[0] == keyword):\n",
    "            newValue=k[1]\n",
    "            print(k)\n",
    "            break\n",
    "    yvalues3.append(newValue)"
   ]
  },
  {
   "cell_type": "code",
   "execution_count": 66,
   "metadata": {},
   "outputs": [
    {
     "name": "stdout",
     "output_type": "stream",
     "text": [
      "('crisis', 0.009549133982881515)\n",
      "('crisis', 0.009057041550949578)\n",
      "('crisis', 0.009741883606534059)\n",
      "('crisis', 0.008988639071869411)\n",
      "('crisis', 0.006496293253233767)\n"
     ]
    }
   ],
   "source": [
    "keyword=\"crisis\"\n",
    "topic=0\n",
    "xvalues4=[\"slice 0\",\"slice 1\",\"slice 2\", \"slice 3\", \"slice 4\"]\n",
    "yvalues4=[]\n",
    "\n",
    "for i in range(5):\n",
    "    keywords=ldaseq.print_topic(topic=0,time=i,top_terms=1000)\n",
    "    for k in keywords:\n",
    "        newValue=0\n",
    "        if (k[0] == keyword):\n",
    "            newValue=k[1]\n",
    "            print(k)\n",
    "            break\n",
    "    yvalues4.append(newValue)"
   ]
  },
  {
   "cell_type": "code",
   "execution_count": 67,
   "metadata": {},
   "outputs": [
    {
     "name": "stdout",
     "output_type": "stream",
     "text": [
      "('vida', 0.0037533655569008777)\n",
      "('vida', 0.004024566822334886)\n",
      "('vida', 0.004695823447268429)\n",
      "('vida', 0.006109561803911195)\n",
      "('vida', 0.006403293806345406)\n"
     ]
    }
   ],
   "source": [
    "keyword=\"vida\"\n",
    "topic=0\n",
    "xvalues5=[\"slice 0\",\"slice 1\",\"slice 2\", \"slice 3\", \"slice 4\"]\n",
    "yvalues5=[]\n",
    "\n",
    "for i in range(5):\n",
    "    keywords=ldaseq.print_topic(topic=0,time=i,top_terms=1000)\n",
    "    for k in keywords:\n",
    "        newValue=0\n",
    "        if (k[0] == keyword):\n",
    "            newValue=k[1]\n",
    "            print(k)\n",
    "            break\n",
    "    yvalues5.append(newValue)"
   ]
  },
  {
   "cell_type": "code",
   "execution_count": 69,
   "metadata": {},
   "outputs": [
    {
     "data": {
      "image/png": "[encoded data removed]",
      "text/plain": [
       "<Figure size 576x576 with 1 Axes>"
      ]
     },
     "metadata": {
      "needs_background": "light"
     },
     "output_type": "display_data"
    }
   ],
   "source": [
    "# libraries and data\n",
    "import matplotlib.pyplot as plt\n",
    "import numpy as np\n",
    "\n",
    "fig, ax = plt.subplots(figsize=(8,8) )\n",
    "\n",
    "df=pd.DataFrame({'xvalues': xvalues1, 'yvalues': yvalues1 })\n",
    "plt.plot( 'xvalues', 'yvalues', data=df, label=\"ministro\")\n",
    "\n",
    "df=pd.DataFrame({'xvalues': xvalues2, 'yvalues': yvalues2 })\n",
    "plt.plot( 'xvalues', 'yvalues', data=df, label=\"presidente\")\n",
    "\n",
    "df=pd.DataFrame({'xvalues': xvalues3, 'yvalues': yvalues3 })\n",
    "plt.plot( 'xvalues', 'yvalues', data=df, label=\"oposición\")\n",
    "\n",
    "df=pd.DataFrame({'xvalues': xvalues4, 'yvalues': yvalues4 })\n",
    "plt.plot( 'xvalues', 'yvalues', data=df, label=\"crisis\")\n",
    "\n",
    "df=pd.DataFrame({'xvalues': xvalues5, 'yvalues': yvalues5 })\n",
    "plt.plot( 'xvalues', 'yvalues', data=df, label=\"vida\")\n",
    "\n",
    "ax.legend()\n",
    "plt.show()"
   ]
  },
  {
   "cell_type": "markdown",
   "metadata": {},
   "source": [
    "#### 5.2 Tópico 1"
   ]
  },
  {
   "cell_type": "code",
   "execution_count": 51,
   "metadata": {},
   "outputs": [],
   "source": [
    "table=[]\n",
    "for i in range(5):\n",
    "    row=[\"slice \"+str(i)]\n",
    "    keywords=ldaseq.print_topic(topic=1,time=i,top_terms=35)\n",
    "    for keyword in keywords:\n",
    "        row.append(str(keyword[0])+\", \"+str(round(keyword[1],3)))\n",
    "    table.append(row)"
   ]
  },
  {
   "cell_type": "code",
   "execution_count": 52,
   "metadata": {},
   "outputs": [
    {
     "data": {
      "text/html": [
       "<table>\n",
       "<tbody>\n",
       "<tr><td>slice 0</td><td>personas, 0.019</td><td>saqueos, 0.012  </td><td>seguridad, 0.011     </td><td>situación, 0.01  </td><td>manifestaciones, 0.009</td><td>medida, 0.009         </td><td>año, 0.007       </td><td>jornada, 0.007  </td><td>jefe, 0.007   </td><td>estaciones, 0.007</td><td>país, 0.007           </td><td>ataques, 0.006  </td><td>semana, 0.006    </td><td>información, 0.006</td><td>martes, 0.006 </td><td>sector, 0.006    </td><td>protestas, 0.005</td><td>transporte, 0.005</td><td>viernes, 0.005  </td><td>servicio, 0.005 </td><td>mañana, 0.005 </td><td>violencia, 0.005</td><td>pasajeros, 0.005</td><td>miércoles, 0.005  </td><td>alza, 0.005       </td><td>comunas, 0.005        </td><td>estallido, 0.005  </td><td>comuna, 0.005    </td><td>avión, 0.005          </td><td>calles, 0.005     </td><td>empresa, 0.005        </td><td>incendios, 0.005</td><td>prensa, 0.004     </td><td>responsabilidad, 0.004</td><td>lunes, 0.004      </td></tr>\n",
       "<tr><td>slice 1</td><td>personas, 0.016</td><td>saqueos, 0.011  </td><td>manifestaciones, 0.01</td><td>situación, 0.01  </td><td>medida, 0.01          </td><td>seguridad, 0.009      </td><td>estaciones, 0.008</td><td>jornada, 0.008  </td><td>semana, 0.008 </td><td>país, 0.007      </td><td>año, 0.007            </td><td>protestas, 0.006</td><td>miércoles, 0.006 </td><td>servicio, 0.006   </td><td>alza, 0.006   </td><td>comunas, 0.006   </td><td>mañana, 0.006   </td><td>transporte, 0.006</td><td>violencia, 0.006</td><td>sector, 0.005   </td><td>ataques, 0.005</td><td>jefe, 0.005     </td><td>lunes, 0.005    </td><td>martes, 0.005     </td><td>comuna, 0.005     </td><td>viernes, 0.005        </td><td>calles, 0.005     </td><td>daños, 0.005     </td><td>responsabilidad, 0.005</td><td>información, 0.005</td><td>empresa, 0.005        </td><td>capital, 0.004  </td><td>autoridades, 0.004</td><td>incendios, 0.004      </td><td>puntos, 0.004     </td></tr>\n",
       "<tr><td>slice 2</td><td>personas, 0.015</td><td>situación, 0.011</td><td>manifestaciones, 0.01</td><td>estaciones, 0.009</td><td>país, 0.009           </td><td>medida, 0.009         </td><td>jornada, 0.008   </td><td>seguridad, 0.008</td><td>alza, 0.008   </td><td>saqueos, 0.008   </td><td>protestas, 0.007      </td><td>semana, 0.007   </td><td>servicio, 0.007  </td><td>mañana, 0.007     </td><td>comunas, 0.006</td><td>transporte, 0.006</td><td>viernes, 0.006  </td><td>año, 0.006       </td><td>lunes, 0.006    </td><td>miércoles, 0.006</td><td>capital, 0.005</td><td>calles, 0.005   </td><td>violencia, 0.005</td><td>autoridades, 0.005</td><td>daños, 0.005      </td><td>comuna, 0.005         </td><td>martes, 0.005     </td><td>sábado, 0.005    </td><td>regiones, 0.005       </td><td>empresa, 0.004    </td><td>responsabilidad, 0.004</td><td>sector, 0.004   </td><td>puntos, 0.004     </td><td>jefe, 0.004           </td><td>condiciones, 0.004</td></tr>\n",
       "<tr><td>slice 3</td><td>personas, 0.017</td><td>situación, 0.011</td><td>estaciones, 0.01     </td><td>alza, 0.01       </td><td>servicio, 0.009       </td><td>manifestaciones, 0.009</td><td>jornada, 0.008   </td><td>país, 0.008     </td><td>medida, 0.008 </td><td>comunas, 0.008   </td><td>protestas, 0.007      </td><td>mañana, 0.007   </td><td>transporte, 0.007</td><td>seguridad, 0.006  </td><td>lunes, 0.006  </td><td>calles, 0.006    </td><td>viernes, 0.006  </td><td>semana, 0.006    </td><td>capital, 0.006  </td><td>saqueos, 0.006  </td><td>sábado, 0.006 </td><td>empresa, 0.005  </td><td>puntos, 0.005   </td><td>miércoles, 0.005  </td><td>autoridades, 0.005</td><td>violencia, 0.005      </td><td>toque, 0.005      </td><td>regiones, 0.005  </td><td>martes, 0.004         </td><td>comuna, 0.004     </td><td>año, 0.004            </td><td>ciudad, 0.004   </td><td>condiciones, 0.004</td><td>responsabilidad, 0.004</td><td>militares, 0.004  </td></tr>\n",
       "<tr><td>slice 4</td><td>personas, 0.016</td><td>situación, 0.009</td><td>servicio, 0.009      </td><td>país, 0.009      </td><td>estaciones, 0.008     </td><td>jornada, 0.008        </td><td>alza, 0.008      </td><td>mañana, 0.008   </td><td>comunas, 0.007</td><td>medida, 0.007    </td><td>manifestaciones, 0.007</td><td>empresa, 0.006  </td><td>protestas, 0.006 </td><td>transporte, 0.006 </td><td>sábado, 0.006 </td><td>lunes, 0.006     </td><td>semana, 0.006   </td><td>viernes, 0.006   </td><td>puntos, 0.005   </td><td>seguridad, 0.005</td><td>calles, 0.005 </td><td>capital, 0.005  </td><td>regiones, 0.005 </td><td>saqueos, 0.005    </td><td>miércoles, 0.005  </td><td>responsabilidad, 0.005</td><td>autoridades, 0.005</td><td>aplicación, 0.004</td><td>año, 0.004            </td><td>violencia, 0.004  </td><td>martes, 0.004         </td><td>jueves, 0.004   </td><td>ley, 0.004        </td><td>ciudad, 0.004         </td><td>comuna, 0.004     </td></tr>\n",
       "</tbody>\n",
       "</table>"
      ],
      "text/plain": [
       "<IPython.core.display.HTML object>"
      ]
     },
     "metadata": {},
     "output_type": "display_data"
    }
   ],
   "source": [
    "from IPython.display import HTML, display\n",
    "import tabulate\n",
    "\n",
    "display(HTML(tabulate.tabulate(table, tablefmt='html')))"
   ]
  },
  {
   "cell_type": "markdown",
   "metadata": {},
   "source": [
    "####  Dar un nombre al tópico 1\n",
    "\n",
    "\"saqueos - manifestaciones - seguridad - servicio- alza\" (?)"
   ]
  },
  {
   "cell_type": "code",
   "execution_count": 70,
   "metadata": {},
   "outputs": [
    {
     "name": "stdout",
     "output_type": "stream",
     "text": [
      "('saqueos', 0.011776947733301851)\n",
      "('saqueos', 0.010743619824908573)\n",
      "('saqueos', 0.007636687892105593)\n",
      "('saqueos', 0.005851932343090877)\n",
      "('saqueos', 0.004793257955210581)\n"
     ]
    }
   ],
   "source": [
    "keyword=\"saqueos\"\n",
    "topic=1\n",
    "xvalues1=[\"slice 0\",\"slice 1\",\"slice 2\", \"slice 3\", \"slice 4\"]\n",
    "yvalues1=[]\n",
    "\n",
    "for i in range(5):\n",
    "    keywords=ldaseq.print_topic(topic=1,time=i,top_terms=1000)\n",
    "    for k in keywords:\n",
    "        newValue=0\n",
    "        if (k[0] == keyword):\n",
    "            newValue=k[1]\n",
    "            print(k)\n",
    "            break\n",
    "    yvalues1.append(newValue)"
   ]
  },
  {
   "cell_type": "code",
   "execution_count": 71,
   "metadata": {},
   "outputs": [
    {
     "name": "stdout",
     "output_type": "stream",
     "text": [
      "('manifestaciones', 0.009495645480585674)\n",
      "('manifestaciones', 0.010253740576078328)\n",
      "('manifestaciones', 0.009769694889052497)\n",
      "('manifestaciones', 0.008910574575830483)\n",
      "('manifestaciones', 0.006670816533862395)\n"
     ]
    }
   ],
   "source": [
    "keyword=\"manifestaciones\"\n",
    "topic=1\n",
    "xvalues2=[\"slice 0\",\"slice 1\",\"slice 2\", \"slice 3\", \"slice 4\"]\n",
    "yvalues2=[]\n",
    "\n",
    "for i in range(5):\n",
    "    keywords=ldaseq.print_topic(topic=1,time=i,top_terms=1000)\n",
    "    for k in keywords:\n",
    "        newValue=0\n",
    "        if (k[0] == keyword):\n",
    "            newValue=k[1]\n",
    "            print(k)\n",
    "            break\n",
    "    yvalues2.append(newValue)"
   ]
  },
  {
   "cell_type": "code",
   "execution_count": 72,
   "metadata": {},
   "outputs": [
    {
     "name": "stdout",
     "output_type": "stream",
     "text": [
      "('seguridad', 0.010704993493323368)\n",
      "('seguridad', 0.009438510954151373)\n",
      "('seguridad', 0.007986453585415288)\n",
      "('seguridad', 0.0064672615825652245)\n",
      "('seguridad', 0.005375546797808967)\n"
     ]
    }
   ],
   "source": [
    "keyword=\"seguridad\"\n",
    "topic=1\n",
    "xvalues3=[\"slice 0\",\"slice 1\",\"slice 2\", \"slice 3\", \"slice 4\"]\n",
    "yvalues3=[]\n",
    "\n",
    "for i in range(5):\n",
    "    keywords=ldaseq.print_topic(topic=1,time=i,top_terms=1000)\n",
    "    for k in keywords:\n",
    "        newValue=0\n",
    "        if (k[0] == keyword):\n",
    "            newValue=k[1]\n",
    "            print(k)\n",
    "            break\n",
    "    yvalues3.append(newValue)"
   ]
  },
  {
   "cell_type": "code",
   "execution_count": 73,
   "metadata": {},
   "outputs": [
    {
     "name": "stdout",
     "output_type": "stream",
     "text": [
      "('servicio', 0.005187296549351622)\n",
      "('servicio', 0.005819780360525451)\n",
      "('servicio', 0.006932600097101304)\n",
      "('servicio', 0.009424930905117458)\n",
      "('servicio', 0.009172318645659679)\n"
     ]
    }
   ],
   "source": [
    "keyword=\"servicio\"\n",
    "topic=1\n",
    "xvalues4=[\"slice 0\",\"slice 1\",\"slice 2\", \"slice 3\", \"slice 4\"]\n",
    "yvalues4=[]\n",
    "\n",
    "for i in range(5):\n",
    "    keywords=ldaseq.print_topic(topic=1,time=i,top_terms=1000)\n",
    "    for k in keywords:\n",
    "        newValue=0\n",
    "        if (k[0] == keyword):\n",
    "            newValue=k[1]\n",
    "            print(k)\n",
    "            break\n",
    "    yvalues4.append(newValue)"
   ]
  },
  {
   "cell_type": "code",
   "execution_count": 74,
   "metadata": {},
   "outputs": [
    {
     "name": "stdout",
     "output_type": "stream",
     "text": [
      "('alza', 0.00474437446974337)\n",
      "('alza', 0.00575821165519206)\n",
      "('alza', 0.0076384061224256455)\n",
      "('alza', 0.00986440829039389)\n",
      "('alza', 0.007743323211649895)\n"
     ]
    }
   ],
   "source": [
    "keyword=\"alza\"\n",
    "topic=0\n",
    "xvalues5=[\"slice 0\",\"slice 1\",\"slice 2\", \"slice 3\", \"slice 4\"]\n",
    "yvalues5=[]\n",
    "\n",
    "for i in range(5):\n",
    "    keywords=ldaseq.print_topic(topic=1,time=i,top_terms=1000)\n",
    "    for k in keywords:\n",
    "        newValue=0\n",
    "        if (k[0] == keyword):\n",
    "            newValue=k[1]\n",
    "            print(k)\n",
    "            break\n",
    "    yvalues5.append(newValue)"
   ]
  },
  {
   "cell_type": "code",
   "execution_count": 75,
   "metadata": {},
   "outputs": [
    {
     "data": {
      "image/png": "[encoded data removed]",
      "text/plain": [
       "<Figure size 576x576 with 1 Axes>"
      ]
     },
     "metadata": {
      "needs_background": "light"
     },
     "output_type": "display_data"
    }
   ],
   "source": [
    "# libraries and data\n",
    "import matplotlib.pyplot as plt\n",
    "import numpy as np\n",
    "\n",
    "fig, ax = plt.subplots(figsize=(8,8))\n",
    "\n",
    "df=pd.DataFrame({'xvalues': xvalues1, 'yvalues': yvalues1 })\n",
    "plt.plot( 'xvalues', 'yvalues', data=df, label=\"saqueos\")\n",
    "\n",
    "df=pd.DataFrame({'xvalues': xvalues2, 'yvalues': yvalues2 })\n",
    "plt.plot( 'xvalues', 'yvalues', data=df, label=\"manifestaciones\")\n",
    "\n",
    "df=pd.DataFrame({'xvalues': xvalues3, 'yvalues': yvalues3 })\n",
    "plt.plot( 'xvalues', 'yvalues', data=df, label=\"seguridad\")\n",
    "\n",
    "df=pd.DataFrame({'xvalues': xvalues4, 'yvalues': yvalues4 })\n",
    "plt.plot( 'xvalues', 'yvalues', data=df, label=\"servicio\")\n",
    "\n",
    "df=pd.DataFrame({'xvalues': xvalues5, 'yvalues': yvalues5 })\n",
    "plt.plot( 'xvalues', 'yvalues', data=df, label=\"alza\")\n",
    "\n",
    "\n",
    "ax.legend()\n",
    "plt.show()"
   ]
  },
  {
   "cell_type": "code",
   "execution_count": 76,
   "metadata": {},
   "outputs": [
    {
     "data": {
      "text/html": [
       "<table>\n",
       "<tbody>\n",
       "<tr><td>slice 0</td><td>personas, 0.016</td><td>años, 0.014    </td><td>hechos, 0.012      </td><td>caso, 0.01         </td><td>delito, 0.01       </td><td>joven, 0.009       </td><td>investigación, 0.008</td><td>delitos, 0.008      </td><td>comuna, 0.007      </td><td>funcionarios, 0.006 </td><td>institución, 0.006 </td><td>apoyo, 0.006      </td><td>información, 0.006    </td><td>casos, 0.006       </td><td>tipo, 0.005       </td><td>interior, 0.005       </td><td>año, 0.005     </td><td>muerte, 0.005     </td><td>manifestaciones, 0.005</td><td>antecedentes, 0.005</td><td>carabineros, 0.005    </td><td>víctima, 0.005 </td><td>redes, 0.004      </td><td>incendio, 0.004 </td><td>lesiones, 0.004 </td><td>familia, 0.004 </td><td>casa, 0.004       </td><td>perdigones, 0.004</td><td>seguridad, 0.004</td><td>sector, 0.004   </td><td>forma, 0.004 </td><td>armas, 0.004   </td><td>prisión, 0.004 </td><td>acciones, 0.004 </td><td>orden, 0.004    </td></tr>\n",
       "<tr><td>slice 1</td><td>personas, 0.015</td><td>años, 0.014    </td><td>joven, 0.01        </td><td>hechos, 0.01       </td><td>caso, 0.009        </td><td>delito, 0.008      </td><td>comuna, 0.007       </td><td>investigación, 0.007</td><td>funcionarios, 0.007</td><td>delitos, 0.007      </td><td>carabineros, 0.006 </td><td>institución, 0.006</td><td>manifestaciones, 0.006</td><td>antecedentes, 0.006</td><td>tipo, 0.006       </td><td>perdigones, 0.006     </td><td>interior, 0.005</td><td>información, 0.005</td><td>casos, 0.005          </td><td>víctima, 0.005     </td><td>apoyo, 0.005          </td><td>redes, 0.005   </td><td>personal, 0.005   </td><td>muerte, 0.005   </td><td>incendio, 0.005 </td><td>forma, 0.005   </td><td>año, 0.005        </td><td>familia, 0.005   </td><td>armas, 0.004    </td><td>seguridad, 0.004</td><td>casa, 0.004  </td><td>prisión, 0.004 </td><td>orden, 0.004   </td><td>acciones, 0.004 </td><td>director, 0.004 </td></tr>\n",
       "<tr><td>slice 2</td><td>personas, 0.017</td><td>años, 0.011    </td><td>hechos, 0.011      </td><td>funcionarios, 0.009</td><td>joven, 0.008       </td><td>caso, 0.008        </td><td>delito, 0.008       </td><td>comuna, 0.008       </td><td>delitos, 0.007     </td><td>investigación, 0.007</td><td>antecedentes, 0.006</td><td>apoyo, 0.006      </td><td>información, 0.006    </td><td>víctima, 0.006     </td><td>carabineros, 0.006</td><td>manifestaciones, 0.006</td><td>tipo, 0.006    </td><td>interior, 0.005   </td><td>redes, 0.005          </td><td>casos, 0.005       </td><td>perdigones, 0.005     </td><td>forma, 0.005   </td><td>institución, 0.005</td><td>incendio, 0.005 </td><td>seguridad, 0.005</td><td>familia, 0.004 </td><td>personal, 0.004   </td><td>fiscal, 0.004    </td><td>año, 0.004      </td><td>lesiones, 0.004 </td><td>casa, 0.004  </td><td>gravedad, 0.004</td><td>armas, 0.004   </td><td>autoridad, 0.004</td><td>situación, 0.004</td></tr>\n",
       "<tr><td>slice 3</td><td>personas, 0.016</td><td>años, 0.013    </td><td>hechos, 0.011      </td><td>funcionarios, 0.009</td><td>caso, 0.009        </td><td>antecedentes, 0.008</td><td>comuna, 0.008       </td><td>delito, 0.007       </td><td>delitos, 0.007     </td><td>investigación, 0.007</td><td>forma, 0.007       </td><td>joven, 0.006      </td><td>tipo, 0.006           </td><td>víctima, 0.006     </td><td>información, 0.006</td><td>redes, 0.006          </td><td>apoyo, 0.005   </td><td>lesiones, 0.005   </td><td>casos, 0.005          </td><td>autoridad, 0.005   </td><td>manifestaciones, 0.005</td><td>interior, 0.005</td><td>carabineros, 0.005</td><td>seguridad, 0.004</td><td>personal, 0.004 </td><td>incendio, 0.004</td><td>institución, 0.004</td><td>familia, 0.004   </td><td>fiscal, 0.004   </td><td>acceso, 0.004   </td><td>hombre, 0.004</td><td>casa, 0.004    </td><td>niños, 0.004   </td><td>año, 0.004      </td><td>edad, 0.004     </td></tr>\n",
       "<tr><td>slice 4</td><td>años, 0.013    </td><td>personas, 0.011</td><td>investigación, 0.01</td><td>hechos, 0.009      </td><td>antecedentes, 0.009</td><td>caso, 0.009        </td><td>delito, 0.009       </td><td>delitos, 0.008      </td><td>comuna, 0.007      </td><td>funcionarios, 0.007 </td><td>forma, 0.006       </td><td>información, 0.006</td><td>tipo, 0.006           </td><td>joven, 0.006       </td><td>víctima, 0.006    </td><td>autoridad, 0.006      </td><td>redes, 0.005   </td><td>casos, 0.005      </td><td>casa, 0.005           </td><td>apoyo, 0.005       </td><td>familia, 0.005        </td><td>fiscal, 0.005  </td><td>lesiones, 0.005   </td><td>personal, 0.004 </td><td>niños, 0.004    </td><td>víctimas, 0.004</td><td>denuncia, 0.004   </td><td>atención, 0.004  </td><td>homicidio, 0.004</td><td>interior, 0.004 </td><td>año, 0.004   </td><td>mujer, 0.004   </td><td>incendio, 0.004</td><td>acceso, 0.004   </td><td>seguridad, 0.004</td></tr>\n",
       "</tbody>\n",
       "</table>"
      ],
      "text/plain": [
       "<IPython.core.display.HTML object>"
      ]
     },
     "metadata": {},
     "output_type": "display_data"
    }
   ],
   "source": [
    "#### tópico 2 \n",
    "table=[]\n",
    "for i in range(5):\n",
    "    row=[\"slice \"+str(i)]\n",
    "    keywords=ldaseq.print_topic(topic=2,time=i,top_terms=35)\n",
    "    for keyword in keywords:\n",
    "        row.append(str(keyword[0])+\", \"+str(round(keyword[1],3)))\n",
    "    table.append(row)\n",
    "    \n",
    "from IPython.display import HTML, display\n",
    "import tabulate\n",
    "\n",
    "display(HTML(tabulate.tabulate(table, tablefmt='html')))"
   ]
  },
  {
   "cell_type": "code",
   "execution_count": null,
   "metadata": {},
   "outputs": [],
   "source": [
    "####  Dar un nombre al tópico 2\n",
    "\n",
    "\"hechos - funcionarios - joven - delito - investigación\" (?)"
   ]
  },
  {
   "cell_type": "markdown",
   "metadata": {},
   "source": [
    "- Topico 0 = \"Palabras del Presidente y políticos\"\n",
    "- Topico 1 = \"Manifestaciones\"\n",
    "- Topico 2 = \"Delitos\""
   ]
  },
  {
   "cell_type": "markdown",
   "metadata": {},
   "source": [
    "**Ejercicio 2:**\n",
    "\n",
    "1) Complete el análisis del tópico 2\n",
    "\n",
    "2) Repita el ejercicio con 7 tópicos y compare sus resultados.\n"
   ]
  },
  {
   "cell_type": "markdown",
   "metadata": {},
   "source": [
    "**Ejercicio 3:**\n",
    "\n",
    "1) ¿Cuáles son las limitaciones del protocolo utilizado? ¿Qué se podría mejorar?\n",
    "\n",
    "2) A partir de este conjunto de noticias ¿Cómo interpreta lo que pasó entre el 4 de octubre y 13 de diciembre? ¿Cómo se podría continuar el análisis para obtener conclusiones más precisas?"
   ]
  }
 ],
 "metadata": {
  "kernelspec": {
   "display_name": "Python 3",
   "language": "python",
   "name": "python3"
  },
  "language_info": {
   "codemirror_mode": {
    "name": "ipython",
    "version": 3
   },
   "file_extension": ".py",
   "mimetype": "text/x-python",
   "name": "python",
   "nbconvert_exporter": "python",
   "pygments_lexer": "ipython3",
   "version": "3.7.3"
  }
 },
 "nbformat": 4,
 "nbformat_minor": 2
}
